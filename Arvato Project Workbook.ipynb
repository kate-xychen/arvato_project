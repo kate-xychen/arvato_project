{
 "cells": [
  {
   "cell_type": "markdown",
   "metadata": {},
   "source": [
    "# Capstone Project: Create a Customer Segmentation Report for Arvato Financial Services\n",
    "\n",
    "In this project, you will analyze demographics data for customers of a mail-order sales company in Germany, comparing it against demographics information for the general population. You'll use unsupervised learning techniques to perform customer segmentation, identifying the parts of the population that best describe the core customer base of the company. Then, you'll apply what you've learned on a third dataset with demographics information for targets of a marketing campaign for the company, and use a model to predict which individuals are most likely to convert into becoming customers for the company. The data that you will use has been provided by our partners at Bertelsmann Arvato Analytics, and represents a real-life data science task.\n",
    "\n",
    "If you completed the first term of this program, you will be familiar with the first part of this project, from the unsupervised learning project. The versions of those two datasets used in this project will include many more features and has not been pre-cleaned. You are also free to choose whatever approach you'd like to analyzing the data rather than follow pre-determined steps. In your work on this project, make sure that you carefully document your steps and decisions, since your main deliverable for this project will be a blog post reporting your findings."
   ]
  },
  {
   "cell_type": "code",
   "execution_count": 3,
   "metadata": {},
   "outputs": [],
   "source": [
    "# import libraries here; add more as necessary\n",
    "import numpy as np\n",
    "import pandas as pd\n",
    "import matplotlib.pyplot as plt\n",
    "import seaborn as sns\n",
    "\n",
    "# magic word for producing visualizations in notebook\n",
    "%matplotlib inline"
   ]
  },
  {
   "cell_type": "markdown",
   "metadata": {},
   "source": [
    "## Part 0: Get to Know the Data\n",
    "\n",
    "There are four data files associated with this project:\n",
    "\n",
    "- `Udacity_AZDIAS_052018.csv`: Demographics data for the general population of Germany; 891 211 persons (rows) x 366 features (columns).\n",
    "- `Udacity_CUSTOMERS_052018.csv`: Demographics data for customers of a mail-order company; 191 652 persons (rows) x 369 features (columns).\n",
    "- `Udacity_MAILOUT_052018_TRAIN.csv`: Demographics data for individuals who were targets of a marketing campaign; 42 982 persons (rows) x 367 (columns).\n",
    "- `Udacity_MAILOUT_052018_TEST.csv`: Demographics data for individuals who were targets of a marketing campaign; 42 833 persons (rows) x 366 (columns).\n",
    "\n",
    "Each row of the demographics files represents a single person, but also includes information outside of individuals, including information about their household, building, and neighborhood. Use the information from the first two files to figure out how customers (\"CUSTOMERS\") are similar to or differ from the general population at large (\"AZDIAS\"), then use your analysis to make predictions on the other two files (\"MAILOUT\"), predicting which recipients are most likely to become a customer for the mail-order company.\n",
    "\n",
    "The \"CUSTOMERS\" file contains three extra columns ('CUSTOMER_GROUP', 'ONLINE_PURCHASE', and 'PRODUCT_GROUP'), which provide broad information about the customers depicted in the file. The original \"MAILOUT\" file included one additional column, \"RESPONSE\", which indicated whether or not each recipient became a customer of the company. For the \"TRAIN\" subset, this column has been retained, but in the \"TEST\" subset it has been removed; it is against that withheld column that your final predictions will be assessed in the Kaggle competition.\n",
    "\n",
    "Otherwise, all of the remaining columns are the same between the three data files. For more information about the columns depicted in the files, you can refer to two Excel spreadsheets provided in the workspace. [One of them](./DIAS Information Levels - Attributes 2017.xlsx) is a top-level list of attributes and descriptions, organized by informational category. [The other](./DIAS Attributes - Values 2017.xlsx) is a detailed mapping of data values for each feature in alphabetical order.\n",
    "\n",
    "In the below cell, we've provided some initial code to load in the first two datasets. Note for all of the `.csv` data files in this project that they're semicolon (`;`) delimited, so an additional argument in the [`read_csv()`](https://pandas.pydata.org/pandas-docs/stable/generated/pandas.read_csv.html) call has been included to read in the data properly. Also, considering the size of the datasets, it may take some time for them to load completely.\n",
    "\n",
    "You'll notice when the data is loaded in that a warning message will immediately pop up. Before you really start digging into the modeling and analysis, you're going to need to perform some cleaning. Take some time to browse the structure of the data and look over the informational spreadsheets to understand the data values. Make some decisions on which features to keep, which features to drop, and if any revisions need to be made on data formats. It'll be a good idea to create a function with pre-processing steps, since you'll need to clean all of the datasets before you work with them."
   ]
  },
  {
   "cell_type": "code",
   "execution_count": 4,
   "metadata": {},
   "outputs": [],
   "source": [
    "# load in the data\n",
    "azdias = pd.read_csv('arvato_data/Udacity_AZDIAS_052018.csv', sep=';', low_memory=False)\n",
    "customers = pd.read_csv('arvato_data/Udacity_CUSTOMERS_052018.csv', sep=';', low_memory=False)"
   ]
  },
  {
   "cell_type": "markdown",
   "metadata": {},
   "source": [
    "### Take A Look At Data\n",
    "The first step of exploring the data is just to take a look at it. "
   ]
  },
  {
   "cell_type": "code",
   "execution_count": 4,
   "metadata": {},
   "outputs": [
    {
     "data": {
      "text/html": [
       "<div>\n",
       "<style scoped>\n",
       "    .dataframe tbody tr th:only-of-type {\n",
       "        vertical-align: middle;\n",
       "    }\n",
       "\n",
       "    .dataframe tbody tr th {\n",
       "        vertical-align: top;\n",
       "    }\n",
       "\n",
       "    .dataframe thead th {\n",
       "        text-align: right;\n",
       "    }\n",
       "</style>\n",
       "<table border=\"1\" class=\"dataframe\">\n",
       "  <thead>\n",
       "    <tr style=\"text-align: right;\">\n",
       "      <th></th>\n",
       "      <th>LNR</th>\n",
       "      <th>AGER_TYP</th>\n",
       "      <th>AKT_DAT_KL</th>\n",
       "      <th>ALTER_HH</th>\n",
       "      <th>ALTER_KIND1</th>\n",
       "      <th>ALTER_KIND2</th>\n",
       "      <th>ALTER_KIND3</th>\n",
       "      <th>ALTER_KIND4</th>\n",
       "      <th>ALTERSKATEGORIE_FEIN</th>\n",
       "      <th>ANZ_HAUSHALTE_AKTIV</th>\n",
       "      <th>...</th>\n",
       "      <th>VHN</th>\n",
       "      <th>VK_DHT4A</th>\n",
       "      <th>VK_DISTANZ</th>\n",
       "      <th>VK_ZG11</th>\n",
       "      <th>W_KEIT_KIND_HH</th>\n",
       "      <th>WOHNDAUER_2008</th>\n",
       "      <th>WOHNLAGE</th>\n",
       "      <th>ZABEOTYP</th>\n",
       "      <th>ANREDE_KZ</th>\n",
       "      <th>ALTERSKATEGORIE_GROB</th>\n",
       "    </tr>\n",
       "  </thead>\n",
       "  <tbody>\n",
       "    <tr>\n",
       "      <th>0</th>\n",
       "      <td>910215</td>\n",
       "      <td>-1</td>\n",
       "      <td>NaN</td>\n",
       "      <td>NaN</td>\n",
       "      <td>NaN</td>\n",
       "      <td>NaN</td>\n",
       "      <td>NaN</td>\n",
       "      <td>NaN</td>\n",
       "      <td>NaN</td>\n",
       "      <td>NaN</td>\n",
       "      <td>...</td>\n",
       "      <td>NaN</td>\n",
       "      <td>NaN</td>\n",
       "      <td>NaN</td>\n",
       "      <td>NaN</td>\n",
       "      <td>NaN</td>\n",
       "      <td>NaN</td>\n",
       "      <td>NaN</td>\n",
       "      <td>3</td>\n",
       "      <td>1</td>\n",
       "      <td>2</td>\n",
       "    </tr>\n",
       "    <tr>\n",
       "      <th>1</th>\n",
       "      <td>910220</td>\n",
       "      <td>-1</td>\n",
       "      <td>9.0</td>\n",
       "      <td>0.0</td>\n",
       "      <td>NaN</td>\n",
       "      <td>NaN</td>\n",
       "      <td>NaN</td>\n",
       "      <td>NaN</td>\n",
       "      <td>21.0</td>\n",
       "      <td>11.0</td>\n",
       "      <td>...</td>\n",
       "      <td>4.0</td>\n",
       "      <td>8.0</td>\n",
       "      <td>11.0</td>\n",
       "      <td>10.0</td>\n",
       "      <td>3.0</td>\n",
       "      <td>9.0</td>\n",
       "      <td>4.0</td>\n",
       "      <td>5</td>\n",
       "      <td>2</td>\n",
       "      <td>1</td>\n",
       "    </tr>\n",
       "    <tr>\n",
       "      <th>2</th>\n",
       "      <td>910225</td>\n",
       "      <td>-1</td>\n",
       "      <td>9.0</td>\n",
       "      <td>17.0</td>\n",
       "      <td>NaN</td>\n",
       "      <td>NaN</td>\n",
       "      <td>NaN</td>\n",
       "      <td>NaN</td>\n",
       "      <td>17.0</td>\n",
       "      <td>10.0</td>\n",
       "      <td>...</td>\n",
       "      <td>2.0</td>\n",
       "      <td>9.0</td>\n",
       "      <td>9.0</td>\n",
       "      <td>6.0</td>\n",
       "      <td>3.0</td>\n",
       "      <td>9.0</td>\n",
       "      <td>2.0</td>\n",
       "      <td>5</td>\n",
       "      <td>2</td>\n",
       "      <td>3</td>\n",
       "    </tr>\n",
       "    <tr>\n",
       "      <th>3</th>\n",
       "      <td>910226</td>\n",
       "      <td>2</td>\n",
       "      <td>1.0</td>\n",
       "      <td>13.0</td>\n",
       "      <td>NaN</td>\n",
       "      <td>NaN</td>\n",
       "      <td>NaN</td>\n",
       "      <td>NaN</td>\n",
       "      <td>13.0</td>\n",
       "      <td>1.0</td>\n",
       "      <td>...</td>\n",
       "      <td>0.0</td>\n",
       "      <td>7.0</td>\n",
       "      <td>10.0</td>\n",
       "      <td>11.0</td>\n",
       "      <td>NaN</td>\n",
       "      <td>9.0</td>\n",
       "      <td>7.0</td>\n",
       "      <td>3</td>\n",
       "      <td>2</td>\n",
       "      <td>4</td>\n",
       "    </tr>\n",
       "    <tr>\n",
       "      <th>4</th>\n",
       "      <td>910241</td>\n",
       "      <td>-1</td>\n",
       "      <td>1.0</td>\n",
       "      <td>20.0</td>\n",
       "      <td>NaN</td>\n",
       "      <td>NaN</td>\n",
       "      <td>NaN</td>\n",
       "      <td>NaN</td>\n",
       "      <td>14.0</td>\n",
       "      <td>3.0</td>\n",
       "      <td>...</td>\n",
       "      <td>2.0</td>\n",
       "      <td>3.0</td>\n",
       "      <td>5.0</td>\n",
       "      <td>4.0</td>\n",
       "      <td>2.0</td>\n",
       "      <td>9.0</td>\n",
       "      <td>3.0</td>\n",
       "      <td>4</td>\n",
       "      <td>1</td>\n",
       "      <td>3</td>\n",
       "    </tr>\n",
       "  </tbody>\n",
       "</table>\n",
       "<p>5 rows × 366 columns</p>\n",
       "</div>"
      ],
      "text/plain": [
       "      LNR  AGER_TYP  AKT_DAT_KL  ALTER_HH  ALTER_KIND1  ALTER_KIND2  \\\n",
       "0  910215        -1         NaN       NaN          NaN          NaN   \n",
       "1  910220        -1         9.0       0.0          NaN          NaN   \n",
       "2  910225        -1         9.0      17.0          NaN          NaN   \n",
       "3  910226         2         1.0      13.0          NaN          NaN   \n",
       "4  910241        -1         1.0      20.0          NaN          NaN   \n",
       "\n",
       "   ALTER_KIND3  ALTER_KIND4  ALTERSKATEGORIE_FEIN  ANZ_HAUSHALTE_AKTIV  ...  \\\n",
       "0          NaN          NaN                   NaN                  NaN  ...   \n",
       "1          NaN          NaN                  21.0                 11.0  ...   \n",
       "2          NaN          NaN                  17.0                 10.0  ...   \n",
       "3          NaN          NaN                  13.0                  1.0  ...   \n",
       "4          NaN          NaN                  14.0                  3.0  ...   \n",
       "\n",
       "   VHN  VK_DHT4A  VK_DISTANZ  VK_ZG11  W_KEIT_KIND_HH  WOHNDAUER_2008  \\\n",
       "0  NaN       NaN         NaN      NaN             NaN             NaN   \n",
       "1  4.0       8.0        11.0     10.0             3.0             9.0   \n",
       "2  2.0       9.0         9.0      6.0             3.0             9.0   \n",
       "3  0.0       7.0        10.0     11.0             NaN             9.0   \n",
       "4  2.0       3.0         5.0      4.0             2.0             9.0   \n",
       "\n",
       "   WOHNLAGE ZABEOTYP ANREDE_KZ ALTERSKATEGORIE_GROB  \n",
       "0       NaN        3         1                    2  \n",
       "1       4.0        5         2                    1  \n",
       "2       2.0        5         2                    3  \n",
       "3       7.0        3         2                    4  \n",
       "4       3.0        4         1                    3  \n",
       "\n",
       "[5 rows x 366 columns]"
      ]
     },
     "execution_count": 4,
     "metadata": {},
     "output_type": "execute_result"
    }
   ],
   "source": [
    "azdias.head(5)"
   ]
  },
  {
   "cell_type": "markdown",
   "metadata": {},
   "source": [
    "The frequent appearance of missing values immediately comes to attention. Depending on the extent of missingness and characteristics of data that have missing values, deletion or imputation needs to be applied properly.\n",
    "\n",
    "After a quick look up of some features' meaning in the 'metadata' file `DIAS Information Levels - Attributes 2017`, it becomes clear that NOT all features are listed in the metadata file, making it difficult for us to interpret and process those data. \n",
    "\n",
    "Almost all data in the dataset have been numerically encoded. Some features are ordinal, such as `WOHNLAGE` (quality of the residential area, ranging from 'very good' to 'very poor' and even 'rural') and can be left as they are when proceeding to modeling, while others are categorical, such as `ANREDE_KZ` (gender), which require constructing dummy variables for them."
   ]
  },
  {
   "cell_type": "markdown",
   "metadata": {},
   "source": [
    "### Determine Which Features Are Documented In Metadata\n",
    "\n",
    "#### Create Metadata\n",
    "`attributes.csv` is created, documenting the list of features from `DIAS Information Levels - Attributes 2017` and datatype (categorical, ordinal and numeric) of each feature after referring to `DIAS Attributes - Values 2017`. The file is then read into a pd.DataFrame. "
   ]
  },
  {
   "cell_type": "code",
   "execution_count": 5,
   "metadata": {},
   "outputs": [
    {
     "data": {
      "text/plain": [
       "318"
      ]
     },
     "execution_count": 5,
     "metadata": {},
     "output_type": "execute_result"
    }
   ],
   "source": [
    "# get the array of attributes in the metadata file\n",
    "metadata = pd.read_csv('attributes.csv', header = None)\n",
    "metadata.columns = ['feature', 'type', 'description', 'unknown', 'info_lev']\n",
    "metadata.index = metadata['feature']\n",
    "\n",
    "attr_ls = metadata.index\n",
    "\n",
    "# no. of features in metadata file\n",
    "len(attr_ls)"
   ]
  },
  {
   "cell_type": "code",
   "execution_count": 6,
   "metadata": {},
   "outputs": [
    {
     "data": {
      "text/plain": [
       "272"
      ]
     },
     "execution_count": 6,
     "metadata": {},
     "output_type": "execute_result"
    }
   ],
   "source": [
    "# find list of common features between dataset and metadata file\n",
    "intersect_ls = np.intersect1d(attr_ls, azdias.columns)\n",
    "\n",
    "# no. of common features\n",
    "len(intersect_ls)"
   ]
  },
  {
   "cell_type": "code",
   "execution_count": 7,
   "metadata": {},
   "outputs": [
    {
     "data": {
      "text/plain": [
       "94"
      ]
     },
     "execution_count": 7,
     "metadata": {},
     "output_type": "execute_result"
    }
   ],
   "source": [
    "# no. of features in  the dataset with no documented metadata\n",
    "no_metadata = list(set(azdias.columns) ^ set(intersect_ls))\n",
    "len(no_metadata)"
   ]
  },
  {
   "cell_type": "markdown",
   "metadata": {},
   "source": [
    "The metadata contains 318 features, of which 266 match exactly with those in the German demography (azdias) dataset. That means, there are 366-272=94 features in the dataset not documented in Metadata."
   ]
  },
  {
   "cell_type": "code",
   "execution_count": 10,
   "metadata": {},
   "outputs": [
    {
     "data": {
      "text/plain": [
       "<matplotlib.axes._subplots.AxesSubplot at 0x10bcbc6a0>"
      ]
     },
     "execution_count": 10,
     "metadata": {},
     "output_type": "execute_result"
    },
    {
     "data": {
      "image/png": "[encoded data removed]",
      "text/plain": [
       "<Figure size 432x288 with 1 Axes>"
      ]
     },
     "metadata": {
      "needs_background": "light"
     },
     "output_type": "display_data"
    }
   ],
   "source": [
    "metadata['type'].value_counts().plot(kind='bar')"
   ]
  },
  {
   "cell_type": "markdown",
   "metadata": {},
   "source": [
    "Most features in the metadata are Ordinal, less than 1/7 of them are Categorical, and only a couple are Numeric.\n",
    "\n",
    "In our dataset, two predominant dtypes are 'int64' and 'float64'. We need to know what other datatypes are there and whether dtype can indicate type of feature."
   ]
  },
  {
   "cell_type": "code",
   "execution_count": 11,
   "metadata": {},
   "outputs": [
    {
     "name": "stdout",
     "output_type": "stream",
     "text": [
      "KBA13_BJ_2008 \n",
      " float64 Ordinal\n",
      "D19_VERSI_ONLINE_DATUM \n",
      " int64 Ordinal\n",
      "KBA05_HERST4 \n",
      " float64 Ordinal\n",
      "KBA05_SEG4 \n",
      " float64 Ordinal\n",
      "KBA13_KRSHERST_AUDI_VW \n",
      " float64 Ordinal\n",
      "KBA13_VORB_1 \n",
      " float64 Ordinal\n",
      "HH_EINKOMMEN_SCORE \n",
      " float64 Ordinal\n",
      "KBA13_KMH_110 \n",
      " float64 Ordinal\n",
      "KBA13_SEG_OBEREMITTELKLASSE \n",
      " float64 Ordinal\n",
      "KBA13_VORB_3 \n",
      " float64 Ordinal\n"
     ]
    }
   ],
   "source": [
    "import random\n",
    "\n",
    "for i in range(10):\n",
    "    random_feature = random.choice(intersect_ls)\n",
    "    print(random_feature, '\\n', azdias[random_feature].dtype, metadata.loc[random_feature, 'type'])"
   ]
  },
  {
   "cell_type": "markdown",
   "metadata": {},
   "source": [
    "Repeating the `random.choice()` process several time, and it becomes clear that we cannot determine type of feature by looking at dtype. A feature with dtype = 'int64' can be Ordinal or Categorical, and the same can be said about 'float64' variables."
   ]
  },
  {
   "cell_type": "code",
   "execution_count": 12,
   "metadata": {},
   "outputs": [
    {
     "name": "stdout",
     "output_type": "stream",
     "text": [
      "0    NaN\n",
      "1     8A\n",
      "2     4C\n",
      "3     2A\n",
      "4     6B\n",
      "Name: CAMEO_DEU_2015, dtype: object\n",
      "0    NaN\n",
      "1      8\n",
      "2      4\n",
      "3      2\n",
      "4      6\n",
      "Name: CAMEO_DEUG_2015, dtype: object\n",
      "0    NaN\n",
      "1     51\n",
      "2     24\n",
      "3     12\n",
      "4     43\n",
      "Name: CAMEO_INTL_2015, dtype: object\n",
      "0              NaN\n",
      "1              NaN\n",
      "2    D19_UNBEKANNT\n",
      "3    D19_UNBEKANNT\n",
      "4       D19_SCHUHE\n",
      "Name: D19_LETZTER_KAUF_BRANCHE, dtype: object\n",
      "0                    NaN\n",
      "1    1992-02-10 00:00:00\n",
      "2    1992-02-12 00:00:00\n",
      "3    1997-04-21 00:00:00\n",
      "4    1992-02-12 00:00:00\n",
      "Name: EINGEFUEGT_AM, dtype: object\n",
      "0    NaN\n",
      "1      W\n",
      "2      W\n",
      "3      W\n",
      "4      W\n",
      "Name: OST_WEST_KZ, dtype: object\n"
     ]
    }
   ],
   "source": [
    "for i in azdias.columns:\n",
    "    if azdias[i].dtype not in ['int64',  'float64']:\n",
    "        print(azdias[i].head(5))"
   ]
  },
  {
   "cell_type": "markdown",
   "metadata": {},
   "source": [
    "There are 6 variables with dtype = 'object'. Most of them are Categorical. Some are not listed in metadata file and requires cautious encoding. "
   ]
  },
  {
   "cell_type": "markdown",
   "metadata": {},
   "source": [
    "#### Making sense of undocumented features"
   ]
  },
  {
   "cell_type": "code",
   "execution_count": 8,
   "metadata": {},
   "outputs": [
    {
     "name": "stdout",
     "output_type": "stream",
     "text": [
      "['D19_GARTEN', 'KBA13_KMH_210', 'D19_BANKEN_ANZ_24', 'AKT_DAT_KL', 'D19_BUCH_CD', 'FIRMENDICHTE', 'KBA13_ANTG1', 'CJT_TYP_6', 'ALTER_KIND4', 'EINGEZOGENAM_HH_JAHR', 'UMFELD_JUNG', 'D19_BANKEN_DIREKT', 'CJT_TYP_1', 'CJT_KATALOGNUTZER', 'MOBI_RASTER', 'D19_DROGERIEARTIKEL', 'D19_RATGEBER', 'KBA13_HHZ', 'D19_KOSMETIK', 'ANZ_KINDER', 'VK_DHT4A', 'STRUKTURTYP', 'KK_KUNDENTYP', 'CJT_TYP_4', 'D19_BANKEN_GROSS', 'ALTER_KIND1', 'D19_TELKO_MOBILE', 'D19_BIO_OEKO', 'ALTERSKATEGORIE_FEIN', 'VK_DISTANZ', 'D19_BANKEN_ANZ_12', 'ALTER_KIND3', 'CJT_TYP_3', 'KBA13_CCM_3001', 'LNR', 'DSL_FLAG', 'D19_HANDWERK', 'D19_WEIN_FEINKOST', 'D19_NAHRUNGSERGAENZUNG', 'RT_KEIN_ANREIZ', 'D19_LETZTER_KAUF_BRANCHE', 'D19_LEBENSMITTEL', 'D19_SOZIALES', 'D19_TIERARTIKEL', 'D19_BANKEN_LOKAL', 'D19_VERSI_ONLINE_QUOTE_12', 'D19_SCHUHE', 'D19_BILDUNG', 'KBA13_CCM_1401_2500', 'D19_KINDERARTIKEL', 'CAMEO_INTL_2015', 'D19_FREIZEIT', 'KBA13_ANTG2', 'SOHO_KZ', 'D19_BEKLEIDUNG_GEH', 'ANZ_STATISTISCHE_HAUSHALTE', 'VK_ZG11', 'D19_REISEN', 'VHN', 'KONSUMZELLE', 'D19_DIGIT_SERV', 'D19_HAUS_DEKO', 'ALTER_KIND2', 'GEMEINDETYP', 'D19_VERSAND_REST', 'KBA13_GBZ', 'D19_TECHNIK', 'KBA13_CCM_3000', 'RT_SCHNAEPPCHEN', 'D19_KONSUMTYP_MAX', 'D19_VERSICHERUNGEN', 'KOMBIALTER', 'CJT_TYP_2', 'CJT_TYP_5', 'EINGEFUEGT_AM', 'D19_TELKO_ONLINE_QUOTE_12', 'KBA13_ANTG3', 'D19_BANKEN_REST', 'UNGLEICHENN_FLAG', 'HH_DELTA_FLAG', 'D19_ENERGIE', 'EXTSEL992', 'D19_TELKO_REST', 'VERDICHTUNGSRAUM', 'D19_BEKLEIDUNG_REST', 'RT_UEBERGROESSE', 'D19_SONSTIGE', 'KBA13_BAUMAX', 'KBA13_ANTG4', 'D19_SAMMELARTIKEL', 'UMFELD_ALT', 'VHA', 'D19_LOTTO', 'D19_VOLLSORTIMENT']\n"
     ]
    }
   ],
   "source": [
    "print(no_metadata)"
   ]
  },
  {
   "cell_type": "markdown",
   "metadata": {},
   "source": [
    "#### Investigating D19_ family\n",
    "It seems that 'D19_' features comprise a large portion of the undocumented feature group (there are a total 94 of them). It would be helpful to investigate into this feature family. "
   ]
  },
  {
   "cell_type": "code",
   "execution_count": 24,
   "metadata": {},
   "outputs": [
    {
     "name": "stdout",
     "output_type": "stream",
     "text": [
      "no. of missing values:  0\n"
     ]
    },
    {
     "data": {
      "image/png": "[encoded data removed]",
      "text/plain": [
       "<Figure size 432x288 with 1 Axes>"
      ]
     },
     "metadata": {
      "needs_background": "light"
     },
     "output_type": "display_data"
    },
    {
     "name": "stdout",
     "output_type": "stream",
     "text": [
      "no. of missing values:  0\n"
     ]
    },
    {
     "data": {
      "image/png": "[encoded data removed]",
      "text/plain": [
       "<Figure size 432x288 with 1 Axes>"
      ]
     },
     "metadata": {
      "needs_background": "light"
     },
     "output_type": "display_data"
    },
    {
     "name": "stdout",
     "output_type": "stream",
     "text": [
      "no. of missing values:  0\n"
     ]
    },
    {
     "data": {
      "image/png": "[encoded data removed]",
      "text/plain": [
       "<Figure size 432x288 with 1 Axes>"
      ]
     },
     "metadata": {
      "needs_background": "light"
     },
     "output_type": "display_data"
    },
    {
     "name": "stdout",
     "output_type": "stream",
     "text": [
      "no. of missing values:  0\n"
     ]
    },
    {
     "data": {
      "image/png": "[encoded data removed]",
      "text/plain": [
       "<Figure size 432x288 with 1 Axes>"
      ]
     },
     "metadata": {
      "needs_background": "light"
     },
     "output_type": "display_data"
    },
    {
     "name": "stdout",
     "output_type": "stream",
     "text": [
      "no. of missing values:  0\n"
     ]
    },
    {
     "data": {
      "image/png": "[encoded data removed]",
      "text/plain": [
       "<Figure size 432x288 with 1 Axes>"
      ]
     },
     "metadata": {
      "needs_background": "light"
     },
     "output_type": "display_data"
    },
    {
     "name": "stdout",
     "output_type": "stream",
     "text": [
      "no. of missing values:  0\n"
     ]
    },
    {
     "data": {
      "image/png": "[encoded data removed]",
      "text/plain": [
       "<Figure size 432x288 with 1 Axes>"
      ]
     },
     "metadata": {
      "needs_background": "light"
     },
     "output_type": "display_data"
    },
    {
     "name": "stdout",
     "output_type": "stream",
     "text": [
      "no. of missing values:  0\n"
     ]
    },
    {
     "data": {
      "image/png": "[encoded data removed]",
      "text/plain": [
       "<Figure size 432x288 with 1 Axes>"
      ]
     },
     "metadata": {
      "needs_background": "light"
     },
     "output_type": "display_data"
    },
    {
     "name": "stdout",
     "output_type": "stream",
     "text": [
      "no. of missing values:  0\n"
     ]
    },
    {
     "data": {
      "image/png": "[encoded data removed]",
      "text/plain": [
       "<Figure size 432x288 with 1 Axes>"
      ]
     },
     "metadata": {
      "needs_background": "light"
     },
     "output_type": "display_data"
    },
    {
     "name": "stdout",
     "output_type": "stream",
     "text": [
      "no. of missing values:  0\n"
     ]
    },
    {
     "data": {
      "image/png": "[encoded data removed]",
      "text/plain": [
       "<Figure size 432x288 with 1 Axes>"
      ]
     },
     "metadata": {
      "needs_background": "light"
     },
     "output_type": "display_data"
    },
    {
     "name": "stdout",
     "output_type": "stream",
     "text": [
      "no. of missing values:  0\n"
     ]
    },
    {
     "data": {
      "image/png": "[encoded data removed]",
      "text/plain": [
       "<Figure size 432x288 with 1 Axes>"
      ]
     },
     "metadata": {
      "needs_background": "light"
     },
     "output_type": "display_data"
    },
    {
     "name": "stdout",
     "output_type": "stream",
     "text": [
      "no. of missing values:  0\n"
     ]
    },
    {
     "data": {
      "image/png": "[encoded data removed]",
      "text/plain": [
       "<Figure size 432x288 with 1 Axes>"
      ]
     },
     "metadata": {
      "needs_background": "light"
     },
     "output_type": "display_data"
    },
    {
     "name": "stdout",
     "output_type": "stream",
     "text": [
      "no. of missing values:  0\n"
     ]
    },
    {
     "data": {
      "image/png": "[encoded data removed]",
      "text/plain": [
       "<Figure size 432x288 with 1 Axes>"
      ]
     },
     "metadata": {
      "needs_background": "light"
     },
     "output_type": "display_data"
    },
    {
     "name": "stdout",
     "output_type": "stream",
     "text": [
      "no. of missing values:  0\n"
     ]
    },
    {
     "data": {
      "image/png": "[encoded data removed]",
      "text/plain": [
       "<Figure size 432x288 with 1 Axes>"
      ]
     },
     "metadata": {
      "needs_background": "light"
     },
     "output_type": "display_data"
    },
    {
     "name": "stdout",
     "output_type": "stream",
     "text": [
      "no. of missing values:  0\n"
     ]
    },
    {
     "data": {
      "image/png": "[encoded data removed]",
      "text/plain": [
       "<Figure size 432x288 with 1 Axes>"
      ]
     },
     "metadata": {
      "needs_background": "light"
     },
     "output_type": "display_data"
    },
    {
     "name": "stdout",
     "output_type": "stream",
     "text": [
      "no. of missing values:  257113\n"
     ]
    },
    {
     "data": {
      "image/png": "[encoded data removed]",
      "text/plain": [
       "<Figure size 432x288 with 1 Axes>"
      ]
     },
     "metadata": {
      "needs_background": "light"
     },
     "output_type": "display_data"
    },
    {
     "name": "stdout",
     "output_type": "stream",
     "text": [
      "no. of missing values:  0\n"
     ]
    },
    {
     "data": {
      "image/png": "[encoded data removed]",
      "text/plain": [
       "<Figure size 432x288 with 1 Axes>"
      ]
     },
     "metadata": {
      "needs_background": "light"
     },
     "output_type": "display_data"
    },
    {
     "name": "stdout",
     "output_type": "stream",
     "text": [
      "no. of missing values:  257113\n"
     ]
    },
    {
     "data": {
      "image/png": "[encoded data removed]",
      "text/plain": [
       "<Figure size 432x288 with 1 Axes>"
      ]
     },
     "metadata": {
      "needs_background": "light"
     },
     "output_type": "display_data"
    },
    {
     "name": "stdout",
     "output_type": "stream",
     "text": [
      "no. of missing values:  0\n"
     ]
    },
    {
     "data": {
      "image/png": "[encoded data removed]",
      "text/plain": [
       "<Figure size 432x288 with 1 Axes>"
      ]
     },
     "metadata": {
      "needs_background": "light"
     },
     "output_type": "display_data"
    },
    {
     "name": "stdout",
     "output_type": "stream",
     "text": [
      "no. of missing values:  0\n"
     ]
    },
    {
     "data": {
      "image/png": "[encoded data removed]",
      "text/plain": [
       "<Figure size 432x288 with 1 Axes>"
      ]
     },
     "metadata": {
      "needs_background": "light"
     },
     "output_type": "display_data"
    },
    {
     "name": "stdout",
     "output_type": "stream",
     "text": [
      "no. of missing values:  257113\n"
     ]
    },
    {
     "data": {
      "image/png": "[encoded data removed]",
      "text/plain": [
       "<Figure size 432x288 with 1 Axes>"
      ]
     },
     "metadata": {
      "needs_background": "light"
     },
     "output_type": "display_data"
    },
    {
     "name": "stdout",
     "output_type": "stream",
     "text": [
      "no. of missing values:  0\n"
     ]
    },
    {
     "data": {
      "image/png": "[encoded data removed]",
      "text/plain": [
       "<Figure size 432x288 with 1 Axes>"
      ]
     },
     "metadata": {
      "needs_background": "light"
     },
     "output_type": "display_data"
    },
    {
     "name": "stdout",
     "output_type": "stream",
     "text": [
      "no. of missing values:  0\n"
     ]
    },
    {
     "data": {
      "image/png": "[encoded data removed]",
      "text/plain": [
       "<Figure size 432x288 with 1 Axes>"
      ]
     },
     "metadata": {
      "needs_background": "light"
     },
     "output_type": "display_data"
    },
    {
     "name": "stdout",
     "output_type": "stream",
     "text": [
      "no. of missing values:  0\n"
     ]
    },
    {
     "data": {
      "image/png": "[encoded data removed]",
      "text/plain": [
       "<Figure size 432x288 with 1 Axes>"
      ]
     },
     "metadata": {
      "needs_background": "light"
     },
     "output_type": "display_data"
    },
    {
     "name": "stdout",
     "output_type": "stream",
     "text": [
      "no. of missing values:  0\n"
     ]
    },
    {
     "data": {
      "image/png": "[encoded data removed]",
      "text/plain": [
       "<Figure size 432x288 with 1 Axes>"
      ]
     },
     "metadata": {
      "needs_background": "light"
     },
     "output_type": "display_data"
    },
    {
     "name": "stdout",
     "output_type": "stream",
     "text": [
      "no. of missing values:  0\n"
     ]
    },
    {
     "data": {
      "image/png": "[encoded data removed]",
      "text/plain": [
       "<Figure size 432x288 with 1 Axes>"
      ]
     },
     "metadata": {
      "needs_background": "light"
     },
     "output_type": "display_data"
    },
    {
     "name": "stdout",
     "output_type": "stream",
     "text": [
      "no. of missing values:  0\n"
     ]
    },
    {
     "data": {
      "image/png": "[encoded data removed]",
      "text/plain": [
       "<Figure size 432x288 with 1 Axes>"
      ]
     },
     "metadata": {
      "needs_background": "light"
     },
     "output_type": "display_data"
    },
    {
     "name": "stdout",
     "output_type": "stream",
     "text": [
      "no. of missing values:  0\n"
     ]
    },
    {
     "data": {
      "image/png": "[encoded data removed]",
      "text/plain": [
       "<Figure size 432x288 with 1 Axes>"
      ]
     },
     "metadata": {
      "needs_background": "light"
     },
     "output_type": "display_data"
    },
    {
     "name": "stdout",
     "output_type": "stream",
     "text": [
      "no. of missing values:  0\n"
     ]
    },
    {
     "data": {
      "image/png": "[encoded data removed]",
      "text/plain": [
       "<Figure size 432x288 with 1 Axes>"
      ]
     },
     "metadata": {
      "needs_background": "light"
     },
     "output_type": "display_data"
    },
    {
     "name": "stdout",
     "output_type": "stream",
     "text": [
      "no. of missing values:  0\n"
     ]
    },
    {
     "data": {
      "image/png": "[encoded data removed]",
      "text/plain": [
       "<Figure size 432x288 with 1 Axes>"
      ]
     },
     "metadata": {
      "needs_background": "light"
     },
     "output_type": "display_data"
    },
    {
     "name": "stdout",
     "output_type": "stream",
     "text": [
      "no. of missing values:  0\n"
     ]
    },
    {
     "data": {
      "image/png": "[encoded data removed]",
      "text/plain": [
       "<Figure size 432x288 with 1 Axes>"
      ]
     },
     "metadata": {
      "needs_background": "light"
     },
     "output_type": "display_data"
    },
    {
     "name": "stdout",
     "output_type": "stream",
     "text": [
      "no. of missing values:  0\n"
     ]
    },
    {
     "data": {
      "image/png": "[encoded data removed]",
      "text/plain": [
       "<Figure size 432x288 with 1 Axes>"
      ]
     },
     "metadata": {
      "needs_background": "light"
     },
     "output_type": "display_data"
    },
    {
     "name": "stdout",
     "output_type": "stream",
     "text": [
      "no. of missing values:  0\n"
     ]
    },
    {
     "data": {
      "image/png": "[encoded data removed]",
      "text/plain": [
       "<Figure size 432x288 with 1 Axes>"
      ]
     },
     "metadata": {
      "needs_background": "light"
     },
     "output_type": "display_data"
    },
    {
     "name": "stdout",
     "output_type": "stream",
     "text": [
      "no. of missing values:  257113\n"
     ]
    },
    {
     "data": {
      "image/png": "[encoded data removed]",
      "text/plain": [
       "<Figure size 432x288 with 1 Axes>"
      ]
     },
     "metadata": {
      "needs_background": "light"
     },
     "output_type": "display_data"
    },
    {
     "name": "stdout",
     "output_type": "stream",
     "text": [
      "no. of missing values:  0\n"
     ]
    },
    {
     "data": {
      "image/png": "[encoded data removed]",
      "text/plain": [
       "<Figure size 432x288 with 1 Axes>"
      ]
     },
     "metadata": {
      "needs_background": "light"
     },
     "output_type": "display_data"
    },
    {
     "name": "stdout",
     "output_type": "stream",
     "text": [
      "no. of missing values:  0\n"
     ]
    },
    {
     "data": {
      "image/png": "[encoded data removed]",
      "text/plain": [
       "<Figure size 432x288 with 1 Axes>"
      ]
     },
     "metadata": {
      "needs_background": "light"
     },
     "output_type": "display_data"
    },
    {
     "name": "stdout",
     "output_type": "stream",
     "text": [
      "no. of missing values:  0\n"
     ]
    },
    {
     "data": {
      "image/png": "[encoded data removed]",
      "text/plain": [
       "<Figure size 432x288 with 1 Axes>"
      ]
     },
     "metadata": {
      "needs_background": "light"
     },
     "output_type": "display_data"
    },
    {
     "name": "stdout",
     "output_type": "stream",
     "text": [
      "no. of missing values:  0\n"
     ]
    },
    {
     "data": {
      "image/png": "[encoded data removed]",
      "text/plain": [
       "<Figure size 432x288 with 1 Axes>"
      ]
     },
     "metadata": {
      "needs_background": "light"
     },
     "output_type": "display_data"
    },
    {
     "name": "stdout",
     "output_type": "stream",
     "text": [
      "no. of missing values:  0\n"
     ]
    },
    {
     "data": {
      "image/png": "[encoded data removed]",
      "text/plain": [
       "<Figure size 432x288 with 1 Axes>"
      ]
     },
     "metadata": {
      "needs_background": "light"
     },
     "output_type": "display_data"
    },
    {
     "name": "stdout",
     "output_type": "stream",
     "text": [
      "no. of missing values:  0\n"
     ]
    },
    {
     "data": {
      "image/png": "[encoded data removed]",
      "text/plain": [
       "<Figure size 432x288 with 1 Axes>"
      ]
     },
     "metadata": {
      "needs_background": "light"
     },
     "output_type": "display_data"
    },
    {
     "name": "stdout",
     "output_type": "stream",
     "text": [
      "no. of missing values:  257113\n"
     ]
    },
    {
     "data": {
      "image/png": "[encoded data removed]",
      "text/plain": [
       "<Figure size 432x288 with 1 Axes>"
      ]
     },
     "metadata": {
      "needs_background": "light"
     },
     "output_type": "display_data"
    },
    {
     "name": "stdout",
     "output_type": "stream",
     "text": [
      "no. of missing values:  0\n"
     ]
    },
    {
     "data": {
      "image/png": "[encoded data removed]",
      "text/plain": [
       "<Figure size 432x288 with 1 Axes>"
      ]
     },
     "metadata": {
      "needs_background": "light"
     },
     "output_type": "display_data"
    }
   ],
   "source": [
    "D19_features = []\n",
    "D19_na_list = []\n",
    "\n",
    "for i in no_metadata:\n",
    "    if i.startswith('D19_'):\n",
    "        D19_features.append(i)\n",
    "        na_cnt = azdias[i].isna().sum()\n",
    "        print('no. of missing values: ', na_cnt)\n",
    "        azdias[i].value_counts().plot(kind='bar')\n",
    "        plt.title(i)\n",
    "        plt.show()\n",
    "        if na_cnt > 0:\n",
    "            D19_na_list.append([i, na_cnt])"
   ]
  },
  {
   "cell_type": "code",
   "execution_count": 25,
   "metadata": {},
   "outputs": [
    {
     "name": "stdout",
     "output_type": "stream",
     "text": [
      "41\n",
      "[['D19_LETZTER_KAUF_BRANCHE', 257113], ['D19_SOZIALES', 257113], ['D19_VERSI_ONLINE_QUOTE_12', 257113], ['D19_TELKO_ONLINE_QUOTE_12', 257113], ['D19_LOTTO', 257113]]\n"
     ]
    }
   ],
   "source": [
    "print(len(D19_features))\n",
    "print(D19_na_list)"
   ]
  },
  {
   "cell_type": "code",
   "execution_count": 33,
   "metadata": {},
   "outputs": [
    {
     "data": {
      "text/plain": [
       "36"
      ]
     },
     "execution_count": 33,
     "metadata": {},
     "output_type": "execute_result"
    }
   ],
   "source": [
    "LETZTER = azdias['D19_LETZTER_KAUF_BRANCHE'].unique()\n",
    "len(LETZTER)"
   ]
  },
  {
   "cell_type": "code",
   "execution_count": 115,
   "metadata": {},
   "outputs": [
    {
     "data": {
      "text/plain": [
       "array([nan, 'D19_UNBEKANNT', 'D19_SCHUHE', 'D19_ENERGIE', 'D19_KOSMETIK',\n",
       "       'D19_VOLLSORTIMENT', 'D19_SONSTIGE', 'D19_BANKEN_GROSS',\n",
       "       'D19_DROGERIEARTIKEL', 'D19_HANDWERK', 'D19_BUCH_CD',\n",
       "       'D19_VERSICHERUNGEN', 'D19_VERSAND_REST', 'D19_TELKO_REST',\n",
       "       'D19_BANKEN_DIREKT', 'D19_BANKEN_REST', 'D19_FREIZEIT',\n",
       "       'D19_LEBENSMITTEL', 'D19_HAUS_DEKO', 'D19_BEKLEIDUNG_REST',\n",
       "       'D19_SAMMELARTIKEL', 'D19_TELKO_MOBILE', 'D19_REISEN',\n",
       "       'D19_BEKLEIDUNG_GEH', 'D19_TECHNIK', 'D19_NAHRUNGSERGAENZUNG',\n",
       "       'D19_DIGIT_SERV', 'D19_LOTTO', 'D19_RATGEBER', 'D19_TIERARTIKEL',\n",
       "       'D19_KINDERARTIKEL', 'D19_BIO_OEKO', 'D19_WEIN_FEINKOST',\n",
       "       'D19_GARTEN', 'D19_BILDUNG', 'D19_BANKEN_LOKAL'], dtype=object)"
      ]
     },
     "execution_count": 115,
     "metadata": {},
     "output_type": "execute_result"
    }
   ],
   "source": [
    "LETZTER"
   ]
  },
  {
   "cell_type": "code",
   "execution_count": 35,
   "metadata": {},
   "outputs": [
    {
     "data": {
      "text/plain": [
       "{'D19_BANKEN_ANZ_12',\n",
       " 'D19_BANKEN_ANZ_24',\n",
       " 'D19_KONSUMTYP_MAX',\n",
       " 'D19_LETZTER_KAUF_BRANCHE',\n",
       " 'D19_SOZIALES',\n",
       " 'D19_TELKO_ONLINE_QUOTE_12',\n",
       " 'D19_UNBEKANNT',\n",
       " 'D19_VERSI_ONLINE_QUOTE_12',\n",
       " nan}"
      ]
     },
     "execution_count": 35,
     "metadata": {},
     "output_type": "execute_result"
    }
   ],
   "source": [
    "set(LETZTER) ^ set(D19_features)"
   ]
  },
  {
   "cell_type": "markdown",
   "metadata": {},
   "source": [
    "'D19_' family has 41 members. Among the 890,000 + records, 257,113 are missing values for this 'D19_' family features. \n",
    "\n",
    "Based on observation, my theory about D19_ family:\n",
    "\n",
    "'D19_LETZTER_KAUF_BRANCHE', 'D19_KONSUMTYP_MAX', 'D19_SOZIALES', 'D19_TELKO_ONLINE_QUOTE_12', 'D19_VERSI_ONLINE_QUOTE_12' are features at general level.\n",
    "\n",
    "Each individual is categorized in 'D19_LETZTER_KAUF_BRANCHE', and if not categorized as 'D19_UNBEKANNT' (probably meaning unknown), will be further categorized in the 35 sub-features."
   ]
  },
  {
   "cell_type": "code",
   "execution_count": 111,
   "metadata": {},
   "outputs": [
    {
     "name": "stdout",
     "output_type": "stream",
     "text": [
      "D19_DROGERIEARTIKEL 5\n",
      "D19_TECHNIK 6\n"
     ]
    }
   ],
   "source": [
    "'''\n",
    "To test the theory, randomly pick a record, find its category according to feature 'D19_LETZTER_KAUF_BRANCHE'.\n",
    "and then find the value for the feature named by that category.\n",
    "It should be a non-zero number.\n",
    "Then check the value of the same record for feature named by another category under 'D19_LETZTER_KAUF_BRANCHE'.\n",
    "It should be a zero number.\n",
    "'''\n",
    "\n",
    "import random\n",
    "\n",
    "i = 21327\n",
    "\n",
    "r = azdias.loc[i, 'D19_LETZTER_KAUF_BRANCHE']\n",
    "print(r, azdias.loc[i, r])\n",
    "\n",
    "j = random.choice(LETZTER)\n",
    "print(j, azdias.loc[i, j])"
   ]
  },
  {
   "cell_type": "markdown",
   "metadata": {},
   "source": [
    "After repeating the cell above several times, it turns out only the first half of the theory is proven correct. One thing is for sure, that zero values for those features that have 80 percent of values being zeros do not mean unknown or unavailable, and we should not treat them as missing values. "
   ]
  },
  {
   "cell_type": "markdown",
   "metadata": {},
   "source": [
    "### Investigating KBA13_ family"
   ]
  },
  {
   "cell_type": "code",
   "execution_count": 113,
   "metadata": {},
   "outputs": [
    {
     "name": "stdout",
     "output_type": "stream",
     "text": [
      "no. of missing values:  105800\n"
     ]
    },
    {
     "data": {
      "image/png": "[encoded data removed]",
      "text/plain": [
       "<Figure size 432x288 with 1 Axes>"
      ]
     },
     "metadata": {
      "needs_background": "light"
     },
     "output_type": "display_data"
    },
    {
     "name": "stdout",
     "output_type": "stream",
     "text": [
      "no. of missing values:  105800\n"
     ]
    },
    {
     "data": {
      "image/png": "[encoded data removed]",
      "text/plain": [
       "<Figure size 432x288 with 1 Axes>"
      ]
     },
     "metadata": {
      "needs_background": "light"
     },
     "output_type": "display_data"
    },
    {
     "name": "stdout",
     "output_type": "stream",
     "text": [
      "no. of missing values:  105800\n"
     ]
    },
    {
     "data": {
      "image/png": "[encoded data removed]",
      "text/plain": [
       "<Figure size 432x288 with 1 Axes>"
      ]
     },
     "metadata": {
      "needs_background": "light"
     },
     "output_type": "display_data"
    },
    {
     "name": "stdout",
     "output_type": "stream",
     "text": [
      "no. of missing values:  105800\n"
     ]
    },
    {
     "data": {
      "image/png": "[encoded data removed]",
      "text/plain": [
       "<Figure size 432x288 with 1 Axes>"
      ]
     },
     "metadata": {
      "needs_background": "light"
     },
     "output_type": "display_data"
    },
    {
     "name": "stdout",
     "output_type": "stream",
     "text": [
      "no. of missing values:  105800\n"
     ]
    },
    {
     "data": {
      "image/png": "[encoded data removed]",
      "text/plain": [
       "<Figure size 432x288 with 1 Axes>"
      ]
     },
     "metadata": {
      "needs_background": "light"
     },
     "output_type": "display_data"
    },
    {
     "name": "stdout",
     "output_type": "stream",
     "text": [
      "no. of missing values:  105800\n"
     ]
    },
    {
     "data": {
      "image/png": "[encoded data removed]",
      "text/plain": [
       "<Figure size 432x288 with 1 Axes>"
      ]
     },
     "metadata": {
      "needs_background": "light"
     },
     "output_type": "display_data"
    },
    {
     "name": "stdout",
     "output_type": "stream",
     "text": [
      "no. of missing values:  105800\n"
     ]
    },
    {
     "data": {
      "image/png": "[encoded data removed]",
      "text/plain": [
       "<Figure size 432x288 with 1 Axes>"
      ]
     },
     "metadata": {
      "needs_background": "light"
     },
     "output_type": "display_data"
    },
    {
     "name": "stdout",
     "output_type": "stream",
     "text": [
      "no. of missing values:  105800\n"
     ]
    },
    {
     "data": {
      "image/png": "[encoded data removed]",
      "text/plain": [
       "<Figure size 432x288 with 1 Axes>"
      ]
     },
     "metadata": {
      "needs_background": "light"
     },
     "output_type": "display_data"
    },
    {
     "name": "stdout",
     "output_type": "stream",
     "text": [
      "no. of missing values:  105800\n"
     ]
    },
    {
     "data": {
      "image/png": "[encoded data removed]",
      "text/plain": [
       "<Figure size 432x288 with 1 Axes>"
      ]
     },
     "metadata": {
      "needs_background": "light"
     },
     "output_type": "display_data"
    },
    {
     "name": "stdout",
     "output_type": "stream",
     "text": [
      "no. of missing values:  105800\n"
     ]
    },
    {
     "data": {
      "image/png": "[encoded data removed]",
      "text/plain": [
       "<Figure size 432x288 with 1 Axes>"
      ]
     },
     "metadata": {
      "needs_background": "light"
     },
     "output_type": "display_data"
    },
    {
     "name": "stdout",
     "output_type": "stream",
     "text": [
      "no. of missing values:  105800\n"
     ]
    },
    {
     "data": {
      "image/png": "[encoded data removed]",
      "text/plain": [
       "<Figure size 432x288 with 1 Axes>"
      ]
     },
     "metadata": {
      "needs_background": "light"
     },
     "output_type": "display_data"
    }
   ],
   "source": [
    "KBA13_cnt = 0\n",
    "KBA13_features = []\n",
    "KBA13_na_list = []\n",
    "\n",
    "for i in no_metadata:\n",
    "    if i.startswith('KBA13_'):\n",
    "        KBA13_features.append(i)\n",
    "        na_cnt = azdias[i].isna().sum()\n",
    "        print('no. of missing values: ', na_cnt)\n",
    "        azdias[i].value_counts().plot(kind='bar')\n",
    "        plt.title(i)\n",
    "        plt.show()\n",
    "        if na_cnt > 0:\n",
    "            KBA13_na_list.append([i, na_cnt])"
   ]
  },
  {
   "cell_type": "code",
   "execution_count": 114,
   "metadata": {},
   "outputs": [
    {
     "name": "stdout",
     "output_type": "stream",
     "text": [
      "11\n",
      "[['KBA13_KMH_210', 105800], ['KBA13_ANTG1', 105800], ['KBA13_HHZ', 105800], ['KBA13_CCM_3001', 105800], ['KBA13_CCM_1401_2500', 105800], ['KBA13_ANTG2', 105800], ['KBA13_GBZ', 105800], ['KBA13_CCM_3000', 105800], ['KBA13_ANTG3', 105800], ['KBA13_BAUMAX', 105800], ['KBA13_ANTG4', 105800]]\n"
     ]
    }
   ],
   "source": [
    "print(len(KBA13_features))\n",
    "print(KBA13_na_list)"
   ]
  },
  {
   "cell_type": "markdown",
   "metadata": {},
   "source": [
    "All 11 features in the KBA13_ family have 105,800 missing values, probabily by the same 105,800 individuals. Judging by the value distribution, and the fact that all KBA13_ features documented in metadata file are all ordinal data, there's high chance that these variables in question are also, and should be treated as, ordinal data."
   ]
  },
  {
   "cell_type": "markdown",
   "metadata": {},
   "source": [
    "#### Investigating CJT_ family"
   ]
  },
  {
   "cell_type": "code",
   "execution_count": 116,
   "metadata": {},
   "outputs": [
    {
     "name": "stdout",
     "output_type": "stream",
     "text": [
      "no. of missing values:  4854\n"
     ]
    },
    {
     "data": {
      "image/png": "[encoded data removed]",
      "text/plain": [
       "<Figure size 432x288 with 1 Axes>"
      ]
     },
     "metadata": {
      "needs_background": "light"
     },
     "output_type": "display_data"
    },
    {
     "name": "stdout",
     "output_type": "stream",
     "text": [
      "no. of missing values:  4854\n"
     ]
    },
    {
     "data": {
      "image/png": "[encoded data removed]",
      "text/plain": [
       "<Figure size 432x288 with 1 Axes>"
      ]
     },
     "metadata": {
      "needs_background": "light"
     },
     "output_type": "display_data"
    },
    {
     "name": "stdout",
     "output_type": "stream",
     "text": [
      "no. of missing values:  4854\n"
     ]
    },
    {
     "data": {
      "image/png": "[encoded data removed]",
      "text/plain": [
       "<Figure size 432x288 with 1 Axes>"
      ]
     },
     "metadata": {
      "needs_background": "light"
     },
     "output_type": "display_data"
    },
    {
     "name": "stdout",
     "output_type": "stream",
     "text": [
      "no. of missing values:  4854\n"
     ]
    },
    {
     "data": {
      "image/png": "[encoded data removed]",
      "text/plain": [
       "<Figure size 432x288 with 1 Axes>"
      ]
     },
     "metadata": {
      "needs_background": "light"
     },
     "output_type": "display_data"
    },
    {
     "name": "stdout",
     "output_type": "stream",
     "text": [
      "no. of missing values:  4854\n"
     ]
    },
    {
     "data": {
      "image/png": "[encoded data removed]",
      "text/plain": [
       "<Figure size 432x288 with 1 Axes>"
      ]
     },
     "metadata": {
      "needs_background": "light"
     },
     "output_type": "display_data"
    },
    {
     "name": "stdout",
     "output_type": "stream",
     "text": [
      "no. of missing values:  4854\n"
     ]
    },
    {
     "data": {
      "image/png": "[encoded data removed]",
      "text/plain": [
       "<Figure size 432x288 with 1 Axes>"
      ]
     },
     "metadata": {
      "needs_background": "light"
     },
     "output_type": "display_data"
    },
    {
     "name": "stdout",
     "output_type": "stream",
     "text": [
      "no. of missing values:  4854\n"
     ]
    },
    {
     "data": {
      "image/png": "[encoded data removed]",
      "text/plain": [
       "<Figure size 432x288 with 1 Axes>"
      ]
     },
     "metadata": {
      "needs_background": "light"
     },
     "output_type": "display_data"
    }
   ],
   "source": [
    "CJT_cnt = 0\n",
    "CJT_features = []\n",
    "CJT_na_list = []\n",
    "\n",
    "for i in no_metadata:\n",
    "    if i.startswith('CJT_'):\n",
    "        CJT_features.append(i)\n",
    "        na_cnt = azdias[i].isna().sum()\n",
    "        print('no. of missing values: ', na_cnt)\n",
    "        azdias[i].value_counts().plot(kind='bar')\n",
    "        plt.title(i)\n",
    "        plt.show()\n",
    "        if na_cnt > 0:\n",
    "            CJT_na_list.append([i, na_cnt])"
   ]
  },
  {
   "cell_type": "code",
   "execution_count": 117,
   "metadata": {},
   "outputs": [
    {
     "name": "stdout",
     "output_type": "stream",
     "text": [
      "7\n",
      "[['CJT_TYP_6', 4854], ['CJT_TYP_1', 4854], ['CJT_KATALOGNUTZER', 4854], ['CJT_TYP_4', 4854], ['CJT_TYP_3', 4854], ['CJT_TYP_2', 4854], ['CJT_TYP_5', 4854]]\n"
     ]
    }
   ],
   "source": [
    "print(len(CJT_features))\n",
    "print(CJT_na_list)"
   ]
  },
  {
   "cell_type": "markdown",
   "metadata": {},
   "source": [
    "##### Handling Missing Values"
   ]
  },
  {
   "cell_type": "code",
   "execution_count": 137,
   "metadata": {},
   "outputs": [],
   "source": [
    "azdias_na = azdias.isna().mean()"
   ]
  },
  {
   "cell_type": "code",
   "execution_count": 140,
   "metadata": {},
   "outputs": [
    {
     "data": {
      "text/plain": [
       "(array([113.,   0.,   1.,  15., 147.,  74.,   0.,   0.,   0.,   0.,   0.,\n",
       "         10.,   0.,   0.,   0.,   0.,   0.,   0.,   0.,   0.,   0.,   0.,\n",
       "          0.,   0.,   0.,   0.,   1.,   0.,   0.,   1.,   0.,   0.,   0.,\n",
       "          0.,   0.,   0.,   1.,   0.,   1.,   2.]),\n",
       " array([0.        , 0.0249662 , 0.0499324 , 0.07489859, 0.09986479,\n",
       "        0.12483099, 0.14979719, 0.17476339, 0.19972958, 0.22469578,\n",
       "        0.24966198, 0.27462818, 0.29959438, 0.32456057, 0.34952677,\n",
       "        0.37449297, 0.39945917, 0.42442537, 0.44939157, 0.47435776,\n",
       "        0.49932396, 0.52429016, 0.54925636, 0.57422256, 0.59918875,\n",
       "        0.62415495, 0.64912115, 0.67408735, 0.69905355, 0.72401974,\n",
       "        0.74898594, 0.77395214, 0.79891834, 0.82388454, 0.84885073,\n",
       "        0.87381693, 0.89878313, 0.92374933, 0.94871553, 0.97368172,\n",
       "        0.99864792]),\n",
       " <a list of 40 Patch objects>)"
      ]
     },
     "execution_count": 140,
     "metadata": {},
     "output_type": "execute_result"
    },
    {
     "data": {
      "image/png": "[encoded data removed]",
      "text/plain": [
       "<Figure size 432x288 with 1 Axes>"
      ]
     },
     "metadata": {
      "needs_background": "light"
     },
     "output_type": "display_data"
    }
   ],
   "source": [
    "plt.hist(azdias_na, bins=40)"
   ]
  },
  {
   "cell_type": "code",
   "execution_count": 291,
   "metadata": {},
   "outputs": [
    {
     "data": {
      "text/plain": [
       "(891221, 366)"
      ]
     },
     "execution_count": 291,
     "metadata": {},
     "output_type": "execute_result"
    }
   ],
   "source": [
    "azdias_na = pd.DataFrame(np.zeros(azdias.shape), columns=azdias.columns)\n",
    "azdias_na.shape"
   ]
  },
  {
   "cell_type": "code",
   "execution_count": 293,
   "metadata": {},
   "outputs": [
    {
     "name": "stdout",
     "output_type": "stream",
     "text": [
      "AGER_TYP \n",
      " unknown values: [-1, 0]\n",
      "no. of na before conversion: 0\n",
      "no. of na after conversion: 685843 \n",
      "\n",
      "ALTERSKATEGORIE_GROB \n",
      " unknown values: [-1, 0]\n",
      "no. of na before conversion: 0\n",
      "no. of na after conversion: 0 \n",
      "\n",
      "ALTER_HH \n",
      " unknown values: [0]\n",
      "no. of na before conversion: 73499\n",
      "no. of na after conversion: 310267 \n",
      "\n",
      "ANREDE_KZ \n",
      " unknown values: [-1, 0]\n",
      "no. of na before conversion: 0\n",
      "no. of na after conversion: 0 \n",
      "\n",
      "ANZ_HAUSHALTE_AKTIV \n",
      " unknown values: []\n",
      "no. of na before conversion: 93148\n",
      "no. of na after conversion: 93148 \n",
      "\n",
      "ANZ_HH_TITEL \n",
      " unknown values: []\n",
      "no. of na before conversion: 97008\n",
      "no. of na after conversion: 97008 \n",
      "\n",
      "ANZ_PERSONEN \n",
      " unknown values: []\n",
      "no. of na before conversion: 73499\n",
      "no. of na after conversion: 73499 \n",
      "\n",
      "ANZ_TITEL \n",
      " unknown values: []\n",
      "no. of na before conversion: 73499\n",
      "no. of na after conversion: 73499 \n",
      "\n",
      "ARBEIT \n",
      " unknown values: nan\n",
      "no. of na before conversion: 97216\n",
      "no. of na after conversion: 97216 \n",
      "\n",
      "BALLRAUM \n",
      " unknown values: [-1]\n",
      "no. of na before conversion: 93740\n",
      "no. of na after conversion: 93740 \n",
      "\n",
      "CAMEO_DEUG_2015 \n",
      " unknown values: [-1]\n",
      "no. of na before conversion: 98979\n",
      "no. of na after conversion: 98979 \n",
      "\n",
      "CAMEO_DEU_2015 \n",
      " unknown values: []\n",
      "no. of na before conversion: 98979\n",
      "no. of na after conversion: 98979 \n",
      "\n",
      "CJT_GESAMTTYP \n",
      " unknown values: [0]\n",
      "no. of na before conversion: 4854\n",
      "no. of na after conversion: 4854 \n",
      "\n",
      "D19_BANKEN_DATUM \n",
      " unknown values: []\n",
      "no. of na before conversion: 0\n",
      "no. of na after conversion: 0 \n",
      "\n",
      "D19_BANKEN_OFFLINE_DATUM \n",
      " unknown values: []\n",
      "no. of na before conversion: 0\n",
      "no. of na after conversion: 0 \n",
      "\n",
      "D19_BANKEN_ONLINE_DATUM \n",
      " unknown values: []\n",
      "no. of na before conversion: 0\n",
      "no. of na after conversion: 0 \n",
      "\n",
      "D19_BANKEN_ONLINE_QUOTE_12 \n",
      " unknown values: []\n",
      "no. of na before conversion: 257113\n",
      "no. of na after conversion: 257113 \n",
      "\n",
      "D19_GESAMT_ANZ_12 \n",
      " unknown values: []\n",
      "no. of na before conversion: 0\n",
      "no. of na after conversion: 0 \n",
      "\n",
      "D19_GESAMT_ANZ_24 \n",
      " unknown values: []\n",
      "no. of na before conversion: 0\n",
      "no. of na after conversion: 0 \n",
      "\n",
      "D19_GESAMT_DATUM \n",
      " unknown values: []\n",
      "no. of na before conversion: 0\n",
      "no. of na after conversion: 0 \n",
      "\n",
      "D19_GESAMT_OFFLINE_DATUM \n",
      " unknown values: []\n",
      "no. of na before conversion: 0\n",
      "no. of na after conversion: 0 \n",
      "\n",
      "D19_GESAMT_ONLINE_DATUM \n",
      " unknown values: []\n",
      "no. of na before conversion: 0\n",
      "no. of na after conversion: 0 \n",
      "\n",
      "D19_GESAMT_ONLINE_QUOTE_12 \n",
      " unknown values: []\n",
      "no. of na before conversion: 257113\n",
      "no. of na after conversion: 257113 \n",
      "\n",
      "D19_KONSUMTYP \n",
      " unknown values: []\n",
      "no. of na before conversion: 257113\n",
      "no. of na after conversion: 257113 \n",
      "\n",
      "D19_TELKO_ANZ_12 \n",
      " unknown values: []\n",
      "no. of na before conversion: 0\n",
      "no. of na after conversion: 0 \n",
      "\n",
      "D19_TELKO_ANZ_24 \n",
      " unknown values: []\n",
      "no. of na before conversion: 0\n",
      "no. of na after conversion: 0 \n",
      "\n",
      "D19_TELKO_DATUM \n",
      " unknown values: []\n",
      "no. of na before conversion: 0\n",
      "no. of na after conversion: 0 \n",
      "\n",
      "D19_TELKO_OFFLINE_DATUM \n",
      " unknown values: []\n",
      "no. of na before conversion: 0\n",
      "no. of na after conversion: 0 \n",
      "\n",
      "D19_TELKO_ONLINE_DATUM \n",
      " unknown values: []\n",
      "no. of na before conversion: 0\n",
      "no. of na after conversion: 0 \n",
      "\n",
      "D19_VERSAND_ANZ_12 \n",
      " unknown values: []\n",
      "no. of na before conversion: 0\n",
      "no. of na after conversion: 0 \n",
      "\n",
      "D19_VERSAND_ANZ_24 \n",
      " unknown values: []\n",
      "no. of na before conversion: 0\n",
      "no. of na after conversion: 0 \n",
      "\n",
      "D19_VERSAND_DATUM \n",
      " unknown values: []\n",
      "no. of na before conversion: 0\n",
      "no. of na after conversion: 0 \n",
      "\n",
      "D19_VERSAND_OFFLINE_DATUM \n",
      " unknown values: []\n",
      "no. of na before conversion: 0\n",
      "no. of na after conversion: 0 \n",
      "\n",
      "D19_VERSAND_ONLINE_DATUM \n",
      " unknown values: []\n",
      "no. of na before conversion: 0\n",
      "no. of na after conversion: 0 \n",
      "\n",
      "D19_VERSAND_ONLINE_QUOTE_12 \n",
      " unknown values: []\n",
      "no. of na before conversion: 257113\n",
      "no. of na after conversion: 257113 \n",
      "\n",
      "D19_VERSI_ANZ_12 \n",
      " unknown values: []\n",
      "no. of na before conversion: 0\n",
      "no. of na after conversion: 0 \n",
      "\n",
      "D19_VERSI_ANZ_24 \n",
      " unknown values: []\n",
      "no. of na before conversion: 0\n",
      "no. of na after conversion: 0 \n",
      "\n",
      "D19_VERSI_DATUM \n",
      " unknown values: []\n",
      "no. of na before conversion: 0\n",
      "no. of na after conversion: 0 \n",
      "\n",
      "D19_VERSI_OFFLINE_DATUM \n",
      " unknown values: []\n",
      "no. of na before conversion: 0\n",
      "no. of na after conversion: 0 \n",
      "\n",
      "D19_VERSI_ONLINE_DATUM \n",
      " unknown values: []\n",
      "no. of na before conversion: 0\n",
      "no. of na after conversion: 0 \n",
      "\n",
      "EWDICHTE \n",
      " unknown values: [-1]\n",
      "no. of na before conversion: 93740\n",
      "no. of na after conversion: 93740 \n",
      "\n",
      "FINANZTYP \n",
      " unknown values: [-1]\n",
      "no. of na before conversion: 0\n",
      "no. of na after conversion: 0 \n",
      "\n",
      "FINANZ_ANLEGER \n",
      " unknown values: [-1]\n",
      "no. of na before conversion: 0\n",
      "no. of na after conversion: 0 \n",
      "\n",
      "FINANZ_HAUSBAUER \n",
      " unknown values: [-1]\n",
      "no. of na before conversion: 0\n",
      "no. of na after conversion: 0 \n",
      "\n",
      "FINANZ_MINIMALIST \n",
      " unknown values: [-1]\n",
      "no. of na before conversion: 0\n",
      "no. of na after conversion: 0 \n",
      "\n",
      "FINANZ_SPARER \n",
      " unknown values: [-1]\n",
      "no. of na before conversion: 0\n",
      "no. of na after conversion: 0 \n",
      "\n",
      "FINANZ_UNAUFFAELLIGER \n",
      " unknown values: [-1]\n",
      "no. of na before conversion: 0\n",
      "no. of na after conversion: 0 \n",
      "\n",
      "FINANZ_VORSORGER \n",
      " unknown values: [-1]\n",
      "no. of na before conversion: 0\n",
      "no. of na after conversion: 0 \n",
      "\n",
      "GEBAEUDETYP \n",
      " unknown values: [-1, 0]\n",
      "no. of na before conversion: 93148\n",
      "no. of na after conversion: 93148 \n",
      "\n",
      "GEBAEUDETYP_RASTER \n",
      " unknown values: []\n",
      "no. of na before conversion: 93155\n",
      "no. of na after conversion: 93155 \n",
      "\n",
      "GEBURTSJAHR \n",
      " unknown values: []\n",
      "no. of na before conversion: 0\n",
      "no. of na after conversion: 0 \n",
      "\n",
      "GFK_URLAUBERTYP \n",
      " unknown values: []\n",
      "no. of na before conversion: 4854\n",
      "no. of na after conversion: 4854 \n",
      "\n",
      "GREEN_AVANTGARDE \n",
      " unknown values: []\n",
      "no. of na before conversion: 0\n",
      "no. of na after conversion: 0 \n",
      "\n",
      "HEALTH_TYP \n",
      " unknown values: [-1, 0]\n",
      "no. of na before conversion: 0\n",
      "no. of na after conversion: 111196 \n",
      "\n",
      "HH_EINKOMMEN_SCORE \n",
      " unknown values: [-1, 0]\n",
      "no. of na before conversion: 18348\n",
      "no. of na after conversion: 18348 \n",
      "\n",
      "INNENSTADT \n",
      " unknown values: [-1]\n",
      "no. of na before conversion: 93740\n",
      "no. of na after conversion: 93740 \n",
      "\n",
      "KBA05_ALTER1 \n",
      " unknown values: [-1, 9]\n",
      "no. of na before conversion: 133324\n",
      "no. of na after conversion: 148110 \n",
      "\n",
      "KBA05_ALTER2 \n",
      " unknown values: [-1, 9]\n",
      "no. of na before conversion: 133324\n",
      "no. of na after conversion: 148110 \n",
      "\n",
      "KBA05_ALTER3 \n",
      " unknown values: [-1, 9]\n",
      "no. of na before conversion: 133324\n",
      "no. of na after conversion: 148110 \n",
      "\n",
      "KBA05_ALTER4 \n",
      " unknown values: [-1, 9]\n",
      "no. of na before conversion: 133324\n",
      "no. of na after conversion: 148110 \n",
      "\n",
      "KBA05_ANHANG \n",
      " unknown values: [-1, 9]\n",
      "no. of na before conversion: 133324\n",
      "no. of na after conversion: 147201 \n",
      "\n",
      "KBA05_ANTG1 \n",
      " unknown values: [-1, 9]\n",
      "no. of na before conversion: 133324\n",
      "no. of na after conversion: 133324 \n",
      "\n",
      "KBA05_ANTG2 \n",
      " unknown values: [-1, 9]\n",
      "no. of na before conversion: 133324\n",
      "no. of na after conversion: 133324 \n",
      "\n",
      "KBA05_ANTG3 \n",
      " unknown values: [-1, 9]\n",
      "no. of na before conversion: 133324\n",
      "no. of na after conversion: 133324 \n",
      "\n",
      "KBA05_ANTG4 \n",
      " unknown values: [-1, 9]\n",
      "no. of na before conversion: 133324\n",
      "no. of na after conversion: 133324 \n",
      "\n",
      "KBA05_AUTOQUOT \n",
      " unknown values: [-1, 9]\n",
      "no. of na before conversion: 133324\n",
      "no. of na after conversion: 148115 \n",
      "\n",
      "KBA05_BAUMAX \n",
      " unknown values: [-1, 9]\n",
      "no. of na before conversion: 133324\n",
      "no. of na after conversion: 133324 \n",
      "\n",
      "KBA05_CCM1 \n",
      " unknown values: [-1, 9]\n",
      "no. of na before conversion: 133324\n",
      "no. of na after conversion: 148110 \n",
      "\n",
      "KBA05_CCM2 \n",
      " unknown values: [-1, 9]\n",
      "no. of na before conversion: 133324\n",
      "no. of na after conversion: 148110 \n",
      "\n",
      "KBA05_CCM3 \n",
      " unknown values: [-1, 9]\n",
      "no. of na before conversion: 133324\n",
      "no. of na after conversion: 148110 \n",
      "\n",
      "KBA05_CCM4 \n",
      " unknown values: [-1, 9]\n",
      "no. of na before conversion: 133324\n",
      "no. of na after conversion: 148110 \n",
      "\n",
      "KBA05_DIESEL \n",
      " unknown values: [-1, 9]\n",
      "no. of na before conversion: 133324\n",
      "no. of na after conversion: 148110 \n",
      "\n",
      "KBA05_FRAU \n",
      " unknown values: [-1, 9]\n",
      "no. of na before conversion: 133324\n",
      "no. of na after conversion: 148110 \n",
      "\n",
      "KBA05_GBZ \n",
      " unknown values: [-1, 9]\n",
      "no. of na before conversion: 133324\n",
      "no. of na after conversion: 133324 \n",
      "\n",
      "KBA05_HERST1 \n",
      " unknown values: [-1, 9]\n",
      "no. of na before conversion: 133324\n",
      "no. of na after conversion: 148110 \n",
      "\n",
      "KBA05_HERST2 \n",
      " unknown values: [-1, 9]\n",
      "no. of na before conversion: 133324\n",
      "no. of na after conversion: 148110 \n",
      "\n",
      "KBA05_HERST3 \n",
      " unknown values: [-1, 9]\n",
      "no. of na before conversion: 133324\n",
      "no. of na after conversion: 148110 \n",
      "\n",
      "KBA05_HERST4 \n",
      " unknown values: [-1, 9]\n"
     ]
    },
    {
     "name": "stdout",
     "output_type": "stream",
     "text": [
      "no. of na before conversion: 133324\n",
      "no. of na after conversion: 148110 \n",
      "\n",
      "KBA05_HERST5 \n",
      " unknown values: [-1, 9]\n",
      "no. of na before conversion: 133324\n",
      "no. of na after conversion: 148110 \n",
      "\n",
      "KBA05_HERSTTEMP \n",
      " unknown values: [-1, 9]\n",
      "no. of na before conversion: 93148\n",
      "no. of na after conversion: 110037 \n",
      "\n",
      "KBA05_KRSAQUOT \n",
      " unknown values: [-1, 9]\n",
      "no. of na before conversion: 133324\n",
      "no. of na after conversion: 148110 \n",
      "\n",
      "KBA05_KRSHERST1 \n",
      " unknown values: [-1, 9]\n",
      "no. of na before conversion: 133324\n",
      "no. of na after conversion: 148110 \n",
      "\n",
      "KBA05_KRSHERST2 \n",
      " unknown values: [-1, 9]\n",
      "no. of na before conversion: 133324\n",
      "no. of na after conversion: 148110 \n",
      "\n",
      "KBA05_KRSHERST3 \n",
      " unknown values: [-1, 9]\n",
      "no. of na before conversion: 133324\n",
      "no. of na after conversion: 148110 \n",
      "\n",
      "KBA05_KRSKLEIN \n",
      " unknown values: [-1, 9]\n",
      "no. of na before conversion: 133324\n",
      "no. of na after conversion: 148110 \n",
      "\n",
      "KBA05_KRSOBER \n",
      " unknown values: [-1, 9]\n",
      "no. of na before conversion: 133324\n",
      "no. of na after conversion: 148110 \n",
      "\n",
      "KBA05_KRSVAN \n",
      " unknown values: [-1, 9]\n",
      "no. of na before conversion: 133324\n",
      "no. of na after conversion: 148110 \n",
      "\n",
      "KBA05_KRSZUL \n",
      " unknown values: [-1, 9]\n",
      "no. of na before conversion: 133324\n",
      "no. of na after conversion: 148110 \n",
      "\n",
      "KBA05_KW1 \n",
      " unknown values: [-1, 9]\n",
      "no. of na before conversion: 133324\n",
      "no. of na after conversion: 148110 \n",
      "\n",
      "KBA05_KW2 \n",
      " unknown values: [-1, 9]\n",
      "no. of na before conversion: 133324\n",
      "no. of na after conversion: 148110 \n",
      "\n",
      "KBA05_KW3 \n",
      " unknown values: [-1, 9]\n",
      "no. of na before conversion: 133324\n",
      "no. of na after conversion: 148110 \n",
      "\n",
      "KBA05_MAXAH \n",
      " unknown values: [-1, 9]\n",
      "no. of na before conversion: 133324\n",
      "no. of na after conversion: 148110 \n",
      "\n",
      "KBA05_MAXBJ \n",
      " unknown values: [-1, 9]\n",
      "no. of na before conversion: 133324\n",
      "no. of na after conversion: 148110 \n",
      "\n",
      "KBA05_MAXHERST \n",
      " unknown values: [-1, 9]\n",
      "no. of na before conversion: 133324\n",
      "no. of na after conversion: 148110 \n",
      "\n",
      "KBA05_MAXSEG \n",
      " unknown values: [-1, 9]\n",
      "no. of na before conversion: 133324\n",
      "no. of na after conversion: 148110 \n",
      "\n",
      "KBA05_MAXVORB \n",
      " unknown values: [-1, 9]\n",
      "no. of na before conversion: 133324\n",
      "no. of na after conversion: 148110 \n",
      "\n",
      "KBA05_MOD1 \n",
      " unknown values: [-1, 9]\n",
      "no. of na before conversion: 133324\n",
      "no. of na after conversion: 148110 \n",
      "\n",
      "KBA05_MOD2 \n",
      " unknown values: [-1, 9]\n",
      "no. of na before conversion: 133324\n",
      "no. of na after conversion: 148110 \n",
      "\n",
      "KBA05_MOD3 \n",
      " unknown values: [-1, 9]\n",
      "no. of na before conversion: 133324\n",
      "no. of na after conversion: 148110 \n",
      "\n",
      "KBA05_MOD4 \n",
      " unknown values: [-1, 9]\n",
      "no. of na before conversion: 133324\n",
      "no. of na after conversion: 148110 \n",
      "\n",
      "KBA05_MOD8 \n",
      " unknown values: [-1, 9]\n",
      "no. of na before conversion: 133324\n",
      "no. of na after conversion: 148110 \n",
      "\n",
      "KBA05_MODTEMP \n",
      " unknown values: [-1, 9]\n",
      "no. of na before conversion: 93148\n",
      "no. of na after conversion: 93148 \n",
      "\n",
      "KBA05_MOTOR \n",
      " unknown values: [-1, 9]\n",
      "no. of na before conversion: 133324\n",
      "no. of na after conversion: 148110 \n",
      "\n",
      "KBA05_MOTRAD \n",
      " unknown values: [-1, 9]\n",
      "no. of na before conversion: 133324\n",
      "no. of na after conversion: 146536 \n",
      "\n",
      "KBA05_SEG1 \n",
      " unknown values: [-1, 9]\n",
      "no. of na before conversion: 133324\n",
      "no. of na after conversion: 148110 \n",
      "\n",
      "KBA05_SEG10 \n",
      " unknown values: [-1, 9]\n",
      "no. of na before conversion: 133324\n",
      "no. of na after conversion: 148110 \n",
      "\n",
      "KBA05_SEG2 \n",
      " unknown values: [-1, 9]\n",
      "no. of na before conversion: 133324\n",
      "no. of na after conversion: 148110 \n",
      "\n",
      "KBA05_SEG3 \n",
      " unknown values: [-1, 9]\n",
      "no. of na before conversion: 133324\n",
      "no. of na after conversion: 148110 \n",
      "\n",
      "KBA05_SEG4 \n",
      " unknown values: [-1, 9]\n",
      "no. of na before conversion: 133324\n",
      "no. of na after conversion: 148110 \n",
      "\n",
      "KBA05_SEG5 \n",
      " unknown values: [-1, 9]\n",
      "no. of na before conversion: 133324\n",
      "no. of na after conversion: 148110 \n",
      "\n",
      "KBA05_SEG6 \n",
      " unknown values: [-1, 9]\n",
      "no. of na before conversion: 133324\n",
      "no. of na after conversion: 148110 \n",
      "\n",
      "KBA05_SEG7 \n",
      " unknown values: [-1, 9]\n",
      "no. of na before conversion: 133324\n",
      "no. of na after conversion: 148110 \n",
      "\n",
      "KBA05_SEG8 \n",
      " unknown values: [-1, 9]\n",
      "no. of na before conversion: 133324\n",
      "no. of na after conversion: 148110 \n",
      "\n",
      "KBA05_SEG9 \n",
      " unknown values: [-1, 9]\n",
      "no. of na before conversion: 133324\n",
      "no. of na after conversion: 148110 \n",
      "\n",
      "KBA05_VORB0 \n",
      " unknown values: [-1, 9]\n",
      "no. of na before conversion: 133324\n",
      "no. of na after conversion: 148110 \n",
      "\n",
      "KBA05_VORB1 \n",
      " unknown values: [-1, 9]\n",
      "no. of na before conversion: 133324\n",
      "no. of na after conversion: 148110 \n",
      "\n",
      "KBA05_VORB2 \n",
      " unknown values: [-1, 9]\n",
      "no. of na before conversion: 133324\n",
      "no. of na after conversion: 148110 \n",
      "\n",
      "KBA05_ZUL1 \n",
      " unknown values: [-1, 9]\n",
      "no. of na before conversion: 133324\n",
      "no. of na after conversion: 148110 \n",
      "\n",
      "KBA05_ZUL2 \n",
      " unknown values: [-1, 9]\n",
      "no. of na before conversion: 133324\n",
      "no. of na after conversion: 148110 \n",
      "\n",
      "KBA05_ZUL3 \n",
      " unknown values: [-1, 9]\n",
      "no. of na before conversion: 133324\n",
      "no. of na after conversion: 148110 \n",
      "\n",
      "KBA05_ZUL4 \n",
      " unknown values: [-1, 9]\n",
      "no. of na before conversion: 133324\n",
      "no. of na after conversion: 148110 \n",
      "\n",
      "KBA13_ALTERHALTER_30 \n",
      " unknown values: [-1]\n",
      "no. of na before conversion: 105800\n",
      "no. of na after conversion: 105800 \n",
      "\n",
      "KBA13_ALTERHALTER_45 \n",
      " unknown values: [-1]\n",
      "no. of na before conversion: 105800\n",
      "no. of na after conversion: 105800 \n",
      "\n",
      "KBA13_ALTERHALTER_60 \n",
      " unknown values: [-1]\n",
      "no. of na before conversion: 105800\n",
      "no. of na after conversion: 105800 \n",
      "\n",
      "KBA13_ALTERHALTER_61 \n",
      " unknown values: [-1]\n",
      "no. of na before conversion: 105800\n",
      "no. of na after conversion: 105800 \n",
      "\n",
      "KBA13_ANZAHL_PKW \n",
      " unknown values: []\n",
      "no. of na before conversion: 105800\n",
      "no. of na after conversion: 105800 \n",
      "\n",
      "KBA13_AUDI \n",
      " unknown values: [-1]\n",
      "no. of na before conversion: 105800\n",
      "no. of na after conversion: 105800 \n",
      "\n",
      "KBA13_AUTOQUOTE \n",
      " unknown values: [-1]\n",
      "no. of na before conversion: 105800\n",
      "no. of na after conversion: 105800 \n",
      "\n",
      "KBA13_BJ_1999 \n",
      " unknown values: [-1]\n",
      "no. of na before conversion: 105800\n",
      "no. of na after conversion: 105800 \n",
      "\n",
      "KBA13_BJ_2000 \n",
      " unknown values: [-1]\n",
      "no. of na before conversion: 105800\n",
      "no. of na after conversion: 105800 \n",
      "\n",
      "KBA13_BJ_2004 \n",
      " unknown values: [-1]\n",
      "no. of na before conversion: 105800\n",
      "no. of na after conversion: 105800 \n",
      "\n",
      "KBA13_BJ_2006 \n",
      " unknown values: [-1]\n",
      "no. of na before conversion: 105800\n",
      "no. of na after conversion: 105800 \n",
      "\n",
      "KBA13_BJ_2008 \n",
      " unknown values: [-1]\n",
      "no. of na before conversion: 105800\n",
      "no. of na after conversion: 105800 \n",
      "\n",
      "KBA13_BJ_2009 \n",
      " unknown values: [-1]\n",
      "no. of na before conversion: 105800\n",
      "no. of na after conversion: 105800 \n",
      "\n",
      "KBA13_BMW \n",
      " unknown values: [-1]\n",
      "no. of na before conversion: 105800\n",
      "no. of na after conversion: 105800 \n",
      "\n",
      "KBA13_CCM_0_1400 \n",
      " unknown values: [-1]\n",
      "no. of na before conversion: 105800\n",
      "no. of na after conversion: 105800 \n",
      "\n",
      "KBA13_CCM_1000 \n",
      " unknown values: [-1]\n",
      "no. of na before conversion: 105800\n",
      "no. of na after conversion: 105800 \n",
      "\n",
      "KBA13_CCM_1200 \n",
      " unknown values: [-1]\n",
      "no. of na before conversion: 105800\n",
      "no. of na after conversion: 105800 \n",
      "\n",
      "KBA13_CCM_1400 \n",
      " unknown values: [-1]\n",
      "no. of na before conversion: 105800\n",
      "no. of na after conversion: 105800 \n",
      "\n",
      "KBA13_CCM_1500 \n",
      " unknown values: [-1]\n",
      "no. of na before conversion: 105800\n",
      "no. of na after conversion: 105800 \n",
      "\n",
      "KBA13_CCM_1600 \n",
      " unknown values: [-1]\n",
      "no. of na before conversion: 105800\n",
      "no. of na after conversion: 105800 \n",
      "\n",
      "KBA13_CCM_1800 \n",
      " unknown values: [-1]\n",
      "no. of na before conversion: 105800\n",
      "no. of na after conversion: 105800 \n",
      "\n",
      "KBA13_CCM_2000 \n",
      " unknown values: [-1]\n",
      "no. of na before conversion: 105800\n",
      "no. of na after conversion: 105800 \n",
      "\n",
      "KBA13_CCM_2500 \n",
      " unknown values: [-1]\n",
      "no. of na before conversion: 105800\n",
      "no. of na after conversion: 105800 \n",
      "\n",
      "KBA13_CCM_2501 \n",
      " unknown values: [-1]\n",
      "no. of na before conversion: 105800\n",
      "no. of na after conversion: 105800 \n",
      "\n",
      "KBA13_FAB_ASIEN \n",
      " unknown values: [-1]\n",
      "no. of na before conversion: 105800\n",
      "no. of na after conversion: 105800 \n",
      "\n",
      "KBA13_FAB_SONSTIGE \n",
      " unknown values: [-1]\n",
      "no. of na before conversion: 105800\n",
      "no. of na after conversion: 105800 \n",
      "\n",
      "KBA13_FIAT \n",
      " unknown values: [-1]\n",
      "no. of na before conversion: 105800\n",
      "no. of na after conversion: 105800 \n",
      "\n",
      "KBA13_FORD \n",
      " unknown values: [-1]\n",
      "no. of na before conversion: 105800\n",
      "no. of na after conversion: 105800 \n",
      "\n",
      "KBA13_HALTER_20 \n",
      " unknown values: [-1]\n",
      "no. of na before conversion: 105800\n",
      "no. of na after conversion: 105800 \n",
      "\n",
      "KBA13_HALTER_25 \n",
      " unknown values: [-1]\n",
      "no. of na before conversion: 105800\n",
      "no. of na after conversion: 105800 \n",
      "\n",
      "KBA13_HALTER_30 \n",
      " unknown values: [-1]\n",
      "no. of na before conversion: 105800\n",
      "no. of na after conversion: 105800 \n",
      "\n",
      "KBA13_HALTER_35 \n",
      " unknown values: [-1]\n"
     ]
    },
    {
     "name": "stdout",
     "output_type": "stream",
     "text": [
      "no. of na before conversion: 105800\n",
      "no. of na after conversion: 105800 \n",
      "\n",
      "KBA13_HALTER_40 \n",
      " unknown values: [-1]\n",
      "no. of na before conversion: 105800\n",
      "no. of na after conversion: 105800 \n",
      "\n",
      "KBA13_HALTER_45 \n",
      " unknown values: [-1]\n",
      "no. of na before conversion: 105800\n",
      "no. of na after conversion: 105800 \n",
      "\n",
      "KBA13_HALTER_50 \n",
      " unknown values: [-1]\n",
      "no. of na before conversion: 105800\n",
      "no. of na after conversion: 105800 \n",
      "\n",
      "KBA13_HALTER_55 \n",
      " unknown values: [-1]\n",
      "no. of na before conversion: 105800\n",
      "no. of na after conversion: 105800 \n",
      "\n",
      "KBA13_HALTER_60 \n",
      " unknown values: [-1]\n",
      "no. of na before conversion: 105800\n",
      "no. of na after conversion: 105800 \n",
      "\n",
      "KBA13_HALTER_65 \n",
      " unknown values: [-1]\n",
      "no. of na before conversion: 105800\n",
      "no. of na after conversion: 105800 \n",
      "\n",
      "KBA13_HALTER_66 \n",
      " unknown values: [-1]\n",
      "no. of na before conversion: 105800\n",
      "no. of na after conversion: 105800 \n",
      "\n",
      "KBA13_HERST_ASIEN \n",
      " unknown values: [-1]\n",
      "no. of na before conversion: 105800\n",
      "no. of na after conversion: 105800 \n",
      "\n",
      "KBA13_HERST_AUDI_VW \n",
      " unknown values: [-1]\n",
      "no. of na before conversion: 105800\n",
      "no. of na after conversion: 105800 \n",
      "\n",
      "KBA13_HERST_BMW_BENZ \n",
      " unknown values: [-1]\n",
      "no. of na before conversion: 105800\n",
      "no. of na after conversion: 105800 \n",
      "\n",
      "KBA13_HERST_EUROPA \n",
      " unknown values: [-1]\n",
      "no. of na before conversion: 105800\n",
      "no. of na after conversion: 105800 \n",
      "\n",
      "KBA13_HERST_FORD_OPEL \n",
      " unknown values: [-1]\n",
      "no. of na before conversion: 105800\n",
      "no. of na after conversion: 105800 \n",
      "\n",
      "KBA13_HERST_SONST \n",
      " unknown values: [-1]\n",
      "no. of na before conversion: 105800\n",
      "no. of na after conversion: 105800 \n",
      "\n",
      "KBA13_KMH_0_140 \n",
      " unknown values: [-1]\n",
      "no. of na before conversion: 105800\n",
      "no. of na after conversion: 105800 \n",
      "\n",
      "KBA13_KMH_110 \n",
      " unknown values: [-1]\n",
      "no. of na before conversion: 105800\n",
      "no. of na after conversion: 105800 \n",
      "\n",
      "KBA13_KMH_140 \n",
      " unknown values: [-1]\n",
      "no. of na before conversion: 105800\n",
      "no. of na after conversion: 105800 \n",
      "\n",
      "KBA13_KMH_140_210 \n",
      " unknown values: [-1]\n",
      "no. of na before conversion: 105800\n",
      "no. of na after conversion: 105800 \n",
      "\n",
      "KBA13_KMH_180 \n",
      " unknown values: [-1]\n",
      "no. of na before conversion: 105800\n",
      "no. of na after conversion: 105800 \n",
      "\n",
      "KBA13_KMH_211 \n",
      " unknown values: [-1]\n",
      "no. of na before conversion: 105800\n",
      "no. of na after conversion: 105800 \n",
      "\n",
      "KBA13_KMH_250 \n",
      " unknown values: [-1]\n",
      "no. of na before conversion: 105800\n",
      "no. of na after conversion: 105800 \n",
      "\n",
      "KBA13_KMH_251 \n",
      " unknown values: [-1]\n",
      "no. of na before conversion: 105800\n",
      "no. of na after conversion: 105800 \n",
      "\n",
      "KBA13_KRSAQUOT \n",
      " unknown values: [-1]\n",
      "no. of na before conversion: 105800\n",
      "no. of na after conversion: 105800 \n",
      "\n",
      "KBA13_KRSHERST_AUDI_VW \n",
      " unknown values: [-1]\n",
      "no. of na before conversion: 105800\n",
      "no. of na after conversion: 105800 \n",
      "\n",
      "KBA13_KRSHERST_BMW_BENZ \n",
      " unknown values: [-1]\n",
      "no. of na before conversion: 105800\n",
      "no. of na after conversion: 105800 \n",
      "\n",
      "KBA13_KRSHERST_FORD_OPEL \n",
      " unknown values: [-1]\n",
      "no. of na before conversion: 105800\n",
      "no. of na after conversion: 105800 \n",
      "\n",
      "KBA13_KRSSEG_KLEIN \n",
      " unknown values: [-1]\n",
      "no. of na before conversion: 105800\n",
      "no. of na after conversion: 105800 \n",
      "\n",
      "KBA13_KRSSEG_OBER \n",
      " unknown values: [-1]\n",
      "no. of na before conversion: 105800\n",
      "no. of na after conversion: 105800 \n",
      "\n",
      "KBA13_KRSSEG_VAN \n",
      " unknown values: [-1]\n",
      "no. of na before conversion: 105800\n",
      "no. of na after conversion: 105800 \n",
      "\n",
      "KBA13_KRSZUL_NEU \n",
      " unknown values: [-1]\n",
      "no. of na before conversion: 105800\n",
      "no. of na after conversion: 105800 \n",
      "\n",
      "KBA13_KW_0_60 \n",
      " unknown values: [-1]\n",
      "no. of na before conversion: 105800\n",
      "no. of na after conversion: 105800 \n",
      "\n",
      "KBA13_KW_110 \n",
      " unknown values: [-1]\n",
      "no. of na before conversion: 105800\n",
      "no. of na after conversion: 105800 \n",
      "\n",
      "KBA13_KW_120 \n",
      " unknown values: [-1]\n",
      "no. of na before conversion: 105800\n",
      "no. of na after conversion: 105800 \n",
      "\n",
      "KBA13_KW_121 \n",
      " unknown values: [-1]\n",
      "no. of na before conversion: 105800\n",
      "no. of na after conversion: 105800 \n",
      "\n",
      "KBA13_KW_30 \n",
      " unknown values: [-1]\n",
      "no. of na before conversion: 105800\n",
      "no. of na after conversion: 105800 \n",
      "\n",
      "KBA13_KW_40 \n",
      " unknown values: [-1]\n",
      "no. of na before conversion: 105800\n",
      "no. of na after conversion: 105800 \n",
      "\n",
      "KBA13_KW_50 \n",
      " unknown values: [-1]\n",
      "no. of na before conversion: 105800\n",
      "no. of na after conversion: 105800 \n",
      "\n",
      "KBA13_KW_60 \n",
      " unknown values: [-1]\n",
      "no. of na before conversion: 105800\n",
      "no. of na after conversion: 105800 \n",
      "\n",
      "KBA13_KW_61_120 \n",
      " unknown values: [-1]\n",
      "no. of na before conversion: 105800\n",
      "no. of na after conversion: 105800 \n",
      "\n",
      "KBA13_KW_70 \n",
      " unknown values: [-1]\n",
      "no. of na before conversion: 105800\n",
      "no. of na after conversion: 105800 \n",
      "\n",
      "KBA13_KW_80 \n",
      " unknown values: [-1]\n",
      "no. of na before conversion: 105800\n",
      "no. of na after conversion: 105800 \n",
      "\n",
      "KBA13_KW_90 \n",
      " unknown values: [-1]\n",
      "no. of na before conversion: 105800\n",
      "no. of na after conversion: 105800 \n",
      "\n",
      "KBA13_MAZDA \n",
      " unknown values: [-1]\n",
      "no. of na before conversion: 105800\n",
      "no. of na after conversion: 105800 \n",
      "\n",
      "KBA13_MERCEDES \n",
      " unknown values: [-1]\n",
      "no. of na before conversion: 105800\n",
      "no. of na after conversion: 105800 \n",
      "\n",
      "KBA13_MOTOR \n",
      " unknown values: [-1]\n",
      "no. of na before conversion: 105800\n",
      "no. of na after conversion: 105800 \n",
      "\n",
      "KBA13_NISSAN \n",
      " unknown values: [-1]\n",
      "no. of na before conversion: 105800\n",
      "no. of na after conversion: 105800 \n",
      "\n",
      "KBA13_OPEL \n",
      " unknown values: [-1]\n",
      "no. of na before conversion: 105800\n",
      "no. of na after conversion: 105800 \n",
      "\n",
      "KBA13_PEUGEOT \n",
      " unknown values: [-1]\n",
      "no. of na before conversion: 105800\n",
      "no. of na after conversion: 105800 \n",
      "\n",
      "KBA13_RENAULT \n",
      " unknown values: [-1]\n",
      "no. of na before conversion: 105800\n",
      "no. of na after conversion: 105800 \n",
      "\n",
      "KBA13_SEG_GELAENDEWAGEN \n",
      " unknown values: [-1]\n",
      "no. of na before conversion: 105800\n",
      "no. of na after conversion: 105800 \n",
      "\n",
      "KBA13_SEG_GROSSRAUMVANS \n",
      " unknown values: [-1]\n",
      "no. of na before conversion: 105800\n",
      "no. of na after conversion: 105800 \n",
      "\n",
      "KBA13_SEG_KLEINST \n",
      " unknown values: [-1]\n",
      "no. of na before conversion: 105800\n",
      "no. of na after conversion: 105800 \n",
      "\n",
      "KBA13_SEG_KLEINWAGEN \n",
      " unknown values: [-1]\n",
      "no. of na before conversion: 105800\n",
      "no. of na after conversion: 105800 \n",
      "\n",
      "KBA13_SEG_KOMPAKTKLASSE \n",
      " unknown values: [-1]\n",
      "no. of na before conversion: 105800\n",
      "no. of na after conversion: 105800 \n",
      "\n",
      "KBA13_SEG_MINIVANS \n",
      " unknown values: [-1]\n",
      "no. of na before conversion: 105800\n",
      "no. of na after conversion: 105800 \n",
      "\n",
      "KBA13_SEG_MINIWAGEN \n",
      " unknown values: [-1]\n",
      "no. of na before conversion: 105800\n",
      "no. of na after conversion: 105800 \n",
      "\n",
      "KBA13_SEG_MITTELKLASSE \n",
      " unknown values: [-1]\n",
      "no. of na before conversion: 105800\n",
      "no. of na after conversion: 105800 \n",
      "\n",
      "KBA13_SEG_OBEREMITTELKLASSE \n",
      " unknown values: [-1]\n",
      "no. of na before conversion: 105800\n",
      "no. of na after conversion: 105800 \n",
      "\n",
      "KBA13_SEG_OBERKLASSE \n",
      " unknown values: [-1]\n",
      "no. of na before conversion: 105800\n",
      "no. of na after conversion: 105800 \n",
      "\n",
      "KBA13_SEG_SONSTIGE \n",
      " unknown values: [-1]\n",
      "no. of na before conversion: 105800\n",
      "no. of na after conversion: 105800 \n",
      "\n",
      "KBA13_SEG_SPORTWAGEN \n",
      " unknown values: [-1]\n",
      "no. of na before conversion: 105800\n",
      "no. of na after conversion: 105800 \n",
      "\n",
      "KBA13_SEG_UTILITIES \n",
      " unknown values: [-1]\n",
      "no. of na before conversion: 105800\n",
      "no. of na after conversion: 105800 \n",
      "\n",
      "KBA13_SEG_VAN \n",
      " unknown values: [-1]\n",
      "no. of na before conversion: 105800\n",
      "no. of na after conversion: 105800 \n",
      "\n",
      "KBA13_SEG_WOHNMOBILE \n",
      " unknown values: [-1]\n",
      "no. of na before conversion: 105800\n",
      "no. of na after conversion: 105800 \n",
      "\n",
      "KBA13_SITZE_4 \n",
      " unknown values: [-1]\n",
      "no. of na before conversion: 105800\n",
      "no. of na after conversion: 105800 \n",
      "\n",
      "KBA13_SITZE_5 \n",
      " unknown values: [-1]\n",
      "no. of na before conversion: 105800\n",
      "no. of na after conversion: 105800 \n",
      "\n",
      "KBA13_SITZE_6 \n",
      " unknown values: [-1]\n",
      "no. of na before conversion: 105800\n",
      "no. of na after conversion: 105800 \n",
      "\n",
      "KBA13_TOYOTA \n",
      " unknown values: [-1]\n",
      "no. of na before conversion: 105800\n",
      "no. of na after conversion: 105800 \n",
      "\n",
      "KBA13_VORB_0 \n",
      " unknown values: [-1]\n",
      "no. of na before conversion: 105800\n",
      "no. of na after conversion: 105800 \n",
      "\n",
      "KBA13_VORB_1 \n",
      " unknown values: [-1]\n",
      "no. of na before conversion: 105800\n",
      "no. of na after conversion: 105800 \n",
      "\n",
      "KBA13_VORB_1_2 \n",
      " unknown values: [-1]\n",
      "no. of na before conversion: 105800\n",
      "no. of na after conversion: 105800 \n",
      "\n",
      "KBA13_VORB_2 \n",
      " unknown values: [-1]\n",
      "no. of na before conversion: 105800\n",
      "no. of na after conversion: 105800 \n",
      "\n",
      "KBA13_VORB_3 \n",
      " unknown values: [-1]\n",
      "no. of na before conversion: 105800\n",
      "no. of na after conversion: 105800 \n",
      "\n",
      "KBA13_VW \n",
      " unknown values: [-1]\n",
      "no. of na before conversion: 105800\n",
      "no. of na after conversion: 105800 \n",
      "\n",
      "KKK \n",
      " unknown values: [-1, 0]\n"
     ]
    },
    {
     "name": "stdout",
     "output_type": "stream",
     "text": [
      "no. of na before conversion: 121196\n",
      "no. of na after conversion: 158064 \n",
      "\n",
      "KONSUMNAEHE \n",
      " unknown values: []\n",
      "no. of na before conversion: 73969\n",
      "no. of na after conversion: 73969 \n",
      "\n",
      "LP_FAMILIE_FEIN \n",
      " unknown values: []\n",
      "no. of na before conversion: 4854\n",
      "no. of na after conversion: 4854 \n",
      "\n",
      "LP_FAMILIE_GROB \n",
      " unknown values: []\n",
      "no. of na before conversion: 4854\n",
      "no. of na after conversion: 4854 \n",
      "\n",
      "LP_LEBENSPHASE_FEIN \n",
      " unknown values: []\n",
      "no. of na before conversion: 4854\n",
      "no. of na after conversion: 4854 \n",
      "\n",
      "LP_LEBENSPHASE_GROB \n",
      " unknown values: []\n",
      "no. of na before conversion: 4854\n",
      "no. of na after conversion: 4854 \n",
      "\n",
      "LP_STATUS_FEIN \n",
      " unknown values: []\n",
      "no. of na before conversion: 4854\n",
      "no. of na after conversion: 4854 \n",
      "\n",
      "LP_STATUS_GROB \n",
      " unknown values: []\n",
      "no. of na before conversion: 4854\n",
      "no. of na after conversion: 4854 \n",
      "\n",
      "MIN_GEBAEUDEJAHR \n",
      " unknown values: []\n",
      "no. of na before conversion: 93148\n",
      "no. of na after conversion: 93148 \n",
      "\n",
      "MOBI_REGIO \n",
      " unknown values: []\n",
      "no. of na before conversion: 133324\n",
      "no. of na after conversion: 133324 \n",
      "\n",
      "NATIONALITAET_KZ \n",
      " unknown values: [-1, 0]\n",
      "no. of na before conversion: 0\n",
      "no. of na after conversion: 108315 \n",
      "\n",
      "ONLINE_AFFINITAET \n",
      " unknown values: []\n",
      "no. of na before conversion: 4854\n",
      "no. of na after conversion: 4854 \n",
      "\n",
      "ORTSGR_KLS9 \n",
      " unknown values: [-1]\n",
      "no. of na before conversion: 97216\n",
      "no. of na after conversion: 97216 \n",
      "\n",
      "OST_WEST_KZ \n",
      " unknown values: [-1]\n",
      "no. of na before conversion: 93148\n",
      "no. of na after conversion: 93148 \n",
      "\n",
      "PLZ8_ANTG1 \n",
      " unknown values: [-1]\n",
      "no. of na before conversion: 116515\n",
      "no. of na after conversion: 116515 \n",
      "\n",
      "PLZ8_ANTG2 \n",
      " unknown values: [-1]\n",
      "no. of na before conversion: 116515\n",
      "no. of na after conversion: 116515 \n",
      "\n",
      "PLZ8_ANTG3 \n",
      " unknown values: [-1]\n",
      "no. of na before conversion: 116515\n",
      "no. of na after conversion: 116515 \n",
      "\n",
      "PLZ8_ANTG4 \n",
      " unknown values: [-1]\n",
      "no. of na before conversion: 116515\n",
      "no. of na after conversion: 116515 \n",
      "\n",
      "PLZ8_BAUMAX \n",
      " unknown values: []\n",
      "no. of na before conversion: 116515\n",
      "no. of na after conversion: 116515 \n",
      "\n",
      "PLZ8_GBZ \n",
      " unknown values: [-1]\n",
      "no. of na before conversion: 116515\n",
      "no. of na after conversion: 116515 \n",
      "\n",
      "PLZ8_HHZ \n",
      " unknown values: [-1]\n",
      "no. of na before conversion: 116515\n",
      "no. of na after conversion: 116515 \n",
      "\n",
      "PRAEGENDE_JUGENDJAHRE \n",
      " unknown values: [-1, 0]\n",
      "no. of na before conversion: 0\n",
      "no. of na after conversion: 108164 \n",
      "\n",
      "REGIOTYP \n",
      " unknown values: [-1, 0]\n",
      "no. of na before conversion: 121196\n",
      "no. of na after conversion: 158064 \n",
      "\n",
      "RELAT_AB \n",
      " unknown values: [-1, 9]\n",
      "no. of na before conversion: 97216\n",
      "no. of na after conversion: 97375 \n",
      "\n",
      "RETOURTYP_BK_S \n",
      " unknown values: [0]\n",
      "no. of na before conversion: 4854\n",
      "no. of na after conversion: 4854 \n",
      "\n",
      "SEMIO_DOM \n",
      " unknown values: [-1, 9]\n",
      "no. of na before conversion: 0\n",
      "no. of na after conversion: 0 \n",
      "\n",
      "SEMIO_ERL \n",
      " unknown values: [-1, 9]\n",
      "no. of na before conversion: 0\n",
      "no. of na after conversion: 0 \n",
      "\n",
      "SEMIO_FAM \n",
      " unknown values: [-1, 9]\n",
      "no. of na before conversion: 0\n",
      "no. of na after conversion: 0 \n",
      "\n",
      "SEMIO_KAEM \n",
      " unknown values: [-1, 9]\n",
      "no. of na before conversion: 0\n",
      "no. of na after conversion: 0 \n",
      "\n",
      "SEMIO_KRIT \n",
      " unknown values: [-1, 9]\n",
      "no. of na before conversion: 0\n",
      "no. of na after conversion: 0 \n",
      "\n",
      "SEMIO_KULT \n",
      " unknown values: [-1, 9]\n",
      "no. of na before conversion: 0\n",
      "no. of na after conversion: 0 \n",
      "\n",
      "SEMIO_LUST \n",
      " unknown values: [-1, 9]\n",
      "no. of na before conversion: 0\n",
      "no. of na after conversion: 0 \n",
      "\n",
      "SEMIO_MAT \n",
      " unknown values: [-1, 9]\n",
      "no. of na before conversion: 0\n",
      "no. of na after conversion: 0 \n",
      "\n",
      "SEMIO_PFLICHT \n",
      " unknown values: [-1, 9]\n",
      "no. of na before conversion: 0\n",
      "no. of na after conversion: 0 \n",
      "\n",
      "SEMIO_RAT \n",
      " unknown values: [-1, 9]\n",
      "no. of na before conversion: 0\n",
      "no. of na after conversion: 0 \n",
      "\n",
      "SEMIO_REL \n",
      " unknown values: [-1, 9]\n",
      "no. of na before conversion: 0\n",
      "no. of na after conversion: 0 \n",
      "\n",
      "SEMIO_SOZ \n",
      " unknown values: [-1, 9]\n",
      "no. of na before conversion: 0\n",
      "no. of na after conversion: 0 \n",
      "\n",
      "SEMIO_TRADV \n",
      " unknown values: [-1, 9]\n",
      "no. of na before conversion: 0\n",
      "no. of na after conversion: 0 \n",
      "\n",
      "SEMIO_VERT \n",
      " unknown values: [-1, 9]\n",
      "no. of na before conversion: 0\n",
      "no. of na after conversion: 0 \n",
      "\n",
      "SHOPPER_TYP \n",
      " unknown values: [-1]\n",
      "no. of na before conversion: 0\n",
      "no. of na after conversion: 111196 \n",
      "\n",
      "TITEL_KZ \n",
      " unknown values: [-1, 0]\n",
      "no. of na before conversion: 73499\n",
      "no. of na after conversion: 889061 \n",
      "\n",
      "VERS_TYP \n",
      " unknown values: [-1]\n",
      "no. of na before conversion: 0\n",
      "no. of na after conversion: 111196 \n",
      "\n",
      "WOHNDAUER_2008 \n",
      " unknown values: [-1, 0]\n",
      "no. of na before conversion: 73499\n",
      "no. of na after conversion: 73499 \n",
      "\n",
      "WOHNLAGE \n",
      " unknown values: [-1, 0]\n",
      "no. of na before conversion: 93148\n",
      "no. of na after conversion: 100098 \n",
      "\n",
      "W_KEIT_KIND_HH \n",
      " unknown values: [-1, 0]\n",
      "no. of na before conversion: 107602\n",
      "no. of na after conversion: 147988 \n",
      "\n",
      "ZABEOTYP \n",
      " unknown values: [-1, 9]\n",
      "no. of na before conversion: 0\n",
      "no. of na after conversion: 0 \n",
      "\n"
     ]
    }
   ],
   "source": [
    "for feature in intersect_ls:\n",
    "    unknown = metadata.loc[feature, 'unknown']\n",
    "    if isinstance(unknown, str):\n",
    "        unknown = unknown.split(',')\n",
    "        unknown = [int(i) for i in unknown if unknown[0] not in ['None', 'N/A']]\n",
    "    print(feature, '\\n', 'unknown values:', unknown)\n",
    "    print('no. of na before conversion:', azdias[feature].isna().sum())\n",
    "    azdias_na[feature] = azdias[feature].replace(to_replace=unknown, value=np.nan)\n",
    "    print('no. of na after conversion:', azdias_na[feature].isna().sum(), '\\n')"
   ]
  },
  {
   "cell_type": "code",
   "execution_count": 294,
   "metadata": {},
   "outputs": [
    {
     "data": {
      "text/plain": [
       "(891221, 366)"
      ]
     },
     "execution_count": 294,
     "metadata": {},
     "output_type": "execute_result"
    }
   ],
   "source": [
    "azdias_na.shape"
   ]
  },
  {
   "cell_type": "code",
   "execution_count": null,
   "metadata": {},
   "outputs": [],
   "source": []
  },
  {
   "cell_type": "code",
   "execution_count": 295,
   "metadata": {},
   "outputs": [],
   "source": [
    "missing_rate = [azdias_na[i].isna().mean() for i in azdias_na.columns]"
   ]
  },
  {
   "cell_type": "code",
   "execution_count": 297,
   "metadata": {},
   "outputs": [
    {
     "data": {
      "image/png": "[encoded data removed]",
      "text/plain": [
       "<Figure size 432x288 with 1 Axes>"
      ]
     },
     "metadata": {
      "needs_background": "light"
     },
     "output_type": "display_data"
    }
   ],
   "source": [
    "_ = plt.hist(missing_rate, bins=20)\n",
    "plt.show()"
   ]
  },
  {
   "cell_type": "code",
   "execution_count": 303,
   "metadata": {},
   "outputs": [
    {
     "ename": "SyntaxError",
     "evalue": "invalid syntax (<ipython-input-303-ed764c6d1bda>, line 1)",
     "output_type": "error",
     "traceback": [
      "\u001b[0;36m  File \u001b[0;32m\"<ipython-input-303-ed764c6d1bda>\"\u001b[0;36m, line \u001b[0;32m1\u001b[0m\n\u001b[0;31m    dem_ord = azdias_na[i in intersect_ls if metadata.loc[i,'type']=='Ordinal']\u001b[0m\n\u001b[0m                                                                              ^\u001b[0m\n\u001b[0;31mSyntaxError\u001b[0m\u001b[0;31m:\u001b[0m invalid syntax\n"
     ]
    }
   ],
   "source": [
    "dem_ord = azdias_na[i in intersect_ls if metadata.loc[i,'type']=='Ordinal']\n",
    "dem_ord.shape"
   ]
  },
  {
   "cell_type": "code",
   "execution_count": 133,
   "metadata": {},
   "outputs": [
    {
     "data": {
      "text/plain": [
       "(891221, 360)"
      ]
     },
     "execution_count": 133,
     "metadata": {},
     "output_type": "execute_result"
    }
   ],
   "source": [
    "pop = azdias.drop(labels=a.index, axis=1)\n",
    "pop.shape"
   ]
  },
  {
   "cell_type": "markdown",
   "metadata": {},
   "source": [
    "### Check Missing Values Across Records"
   ]
  },
  {
   "cell_type": "code",
   "execution_count": 155,
   "metadata": {},
   "outputs": [
    {
     "data": {
      "text/plain": [
       "(array([5.73319e+05, 1.69441e+05, 4.02300e+03, 3.79400e+03, 1.41000e+02,\n",
       "        6.08000e+02, 5.00000e+00, 0.00000e+00, 0.00000e+00, 0.00000e+00,\n",
       "        2.23640e+04, 8.89700e+03, 2.11800e+03, 5.64000e+02, 9.10000e+01,\n",
       "        5.00000e+01, 6.00000e+00, 0.00000e+00, 4.08000e+02, 3.34600e+03,\n",
       "        9.89000e+02, 1.78400e+03, 2.60000e+01, 8.00000e+00, 5.00000e+00,\n",
       "        0.00000e+00, 0.00000e+00, 0.00000e+00, 7.70000e+01, 1.75800e+03,\n",
       "        3.44500e+03, 5.95000e+02, 1.68000e+02, 2.90000e+01, 1.47210e+04,\n",
       "        1.30000e+02, 4.71200e+03, 4.60000e+01, 2.79570e+04, 4.55960e+04]),\n",
       " array([0.        , 0.01756944, 0.03513889, 0.05270833, 0.07027778,\n",
       "        0.08784722, 0.10541667, 0.12298611, 0.14055556, 0.158125  ,\n",
       "        0.17569444, 0.19326389, 0.21083333, 0.22840278, 0.24597222,\n",
       "        0.26354167, 0.28111111, 0.29868056, 0.31625   , 0.33381944,\n",
       "        0.35138889, 0.36895833, 0.38652778, 0.40409722, 0.42166667,\n",
       "        0.43923611, 0.45680556, 0.474375  , 0.49194444, 0.50951389,\n",
       "        0.52708333, 0.54465278, 0.56222222, 0.57979167, 0.59736111,\n",
       "        0.61493056, 0.6325    , 0.65006944, 0.66763889, 0.68520833,\n",
       "        0.70277778]),\n",
       " <a list of 40 Patch objects>)"
      ]
     },
     "execution_count": 155,
     "metadata": {},
     "output_type": "execute_result"
    },
    {
     "data": {
      "image/png": "[encoded data removed]",
      "text/plain": [
       "<Figure size 432x288 with 1 Axes>"
      ]
     },
     "metadata": {
      "needs_background": "light"
     },
     "output_type": "display_data"
    }
   ],
   "source": [
    "pop_na = pop.isna().mean(axis=1)\n",
    "plt.hist(pop_na,bins=40)"
   ]
  },
  {
   "cell_type": "code",
   "execution_count": 157,
   "metadata": {},
   "outputs": [
    {
     "data": {
      "text/plain": [
       "0.881286459811876"
      ]
     },
     "execution_count": 157,
     "metadata": {},
     "output_type": "execute_result"
    }
   ],
   "source": [
    "index = np.array([i < 0.3 for i in pop_na])\n",
    "np.mean(index)"
   ]
  },
  {
   "cell_type": "code",
   "execution_count": 161,
   "metadata": {},
   "outputs": [
    {
     "data": {
      "text/plain": [
       "(105800, 360)"
      ]
     },
     "execution_count": 161,
     "metadata": {},
     "output_type": "execute_result"
    }
   ],
   "source": [
    "# Divide population into two subgroup: \n",
    "pop_0 = pop.iloc[[i < 0.3 for i in pop_na], :]   #_0: records with low missing rate\n",
    "pop_1 = pop.iloc[[i >= 0.3 for i in pop_na], :]   #_1: records with high missing rate\n",
    "pop_1.shape"
   ]
  },
  {
   "cell_type": "code",
   "execution_count": null,
   "metadata": {
    "collapsed": true
   },
   "outputs": [],
   "source": [
    "# Be sure to add in a lot more cells (both markdown and code) to document your\n",
    "# approach and findings!\n"
   ]
  },
  {
   "cell_type": "markdown",
   "metadata": {},
   "source": [
    "## Part 1: Customer Segmentation Report\n",
    "\n",
    "The main bulk of your analysis will come in this part of the project. Here, you should use unsupervised learning techniques to describe the relationship between the demographics of the company's existing customers and the general population of Germany. By the end of this part, you should be able to describe parts of the general population that are more likely to be part of the mail-order company's main customer base, and which parts of the general population are less so."
   ]
  },
  {
   "cell_type": "code",
   "execution_count": null,
   "metadata": {},
   "outputs": [],
   "source": []
  },
  {
   "cell_type": "markdown",
   "metadata": {},
   "source": [
    "## Part 2: Supervised Learning Model\n",
    "\n",
    "Now that you've found which parts of the population are more likely to be customers of the mail-order company, it's time to build a prediction model. Each of the rows in the \"MAILOUT\" data files represents an individual that was targeted for a mailout campaign. Ideally, we should be able to use the demographic information from each individual to decide whether or not it will be worth it to include that person in the campaign.\n",
    "\n",
    "The \"MAILOUT\" data has been split into two approximately equal parts, each with almost 43 000 data rows. In this part, you can verify your model with the \"TRAIN\" partition, which includes a column, \"RESPONSE\", that states whether or not a person became a customer of the company following the campaign. In the next part, you'll need to create predictions on the \"TEST\" partition, where the \"RESPONSE\" column has been withheld."
   ]
  },
  {
   "cell_type": "code",
   "execution_count": null,
   "metadata": {},
   "outputs": [],
   "source": [
    "mailout_train = pd.read_csv('../../data/Term2/capstone/arvato_data/Udacity_MAILOUT_052018_TRAIN.csv', sep=';')"
   ]
  },
  {
   "cell_type": "code",
   "execution_count": null,
   "metadata": {},
   "outputs": [],
   "source": []
  },
  {
   "cell_type": "markdown",
   "metadata": {},
   "source": [
    "## Part 3: Kaggle Competition\n",
    "\n",
    "Now that you've created a model to predict which individuals are most likely to respond to a mailout campaign, it's time to test that model in competition through Kaggle. If you click on the link [here](http://www.kaggle.com/t/21e6d45d4c574c7fa2d868f0e8c83140), you'll be taken to the competition page where, if you have a Kaggle account, you can enter.\n",
    "\n",
    "Your entry to the competition should be a CSV file with two columns. The first column should be a copy of \"LNR\", which acts as an ID number for each individual in the \"TEST\" partition. The second column, \"RESPONSE\", should be some measure of how likely each individual became a customer – this might not be a straightforward probability. As you should have found in Part 2, there is a large output class imbalance, where most individuals did not respond to the mailout. Thus, predicting individual classes and using accuracy does not seem to be an appropriate performance evaluation method. Instead, the competition will be using AUC to evaluate performance. The exact values of the \"RESPONSE\" column do not matter as much: only that the higher values try to capture as many of the actual customers as possible, early in the ROC curve sweep."
   ]
  },
  {
   "cell_type": "code",
   "execution_count": null,
   "metadata": {},
   "outputs": [],
   "source": [
    "mailout_test = pd.read_csv('../../data/Term2/capstone/arvato_data/Udacity_MAILOUT_052018_TEST.csv', sep=';')"
   ]
  },
  {
   "cell_type": "code",
   "execution_count": null,
   "metadata": {},
   "outputs": [],
   "source": []
  }
 ],
 "metadata": {
  "kernelspec": {
   "display_name": "Python 3",
   "language": "python",
   "name": "python3"
  },
  "language_info": {
   "codemirror_mode": {
    "name": "ipython",
    "version": 3
   },
   "file_extension": ".py",
   "mimetype": "text/x-python",
   "name": "python",
   "nbconvert_exporter": "python",
   "pygments_lexer": "ipython3",
   "version": "3.7.3"
  }
 },
 "nbformat": 4,
 "nbformat_minor": 2
}
